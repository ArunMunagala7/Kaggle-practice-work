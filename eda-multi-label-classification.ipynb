{
 "cells": [
  {
   "cell_type": "code",
   "execution_count": 1,
   "id": "bb9023b2",
   "metadata": {
    "_cell_guid": "b1076dfc-b9ad-4769-8c92-a6c4dae69d19",
    "_uuid": "8f2839f25d086af736a60e9eeb907d3b93b6e0e5",
    "execution": {
     "iopub.execute_input": "2023-06-30T06:21:12.815179Z",
     "iopub.status.busy": "2023-06-30T06:21:12.814402Z",
     "iopub.status.idle": "2023-06-30T06:21:12.835869Z",
     "shell.execute_reply": "2023-06-30T06:21:12.834481Z"
    },
    "papermill": {
     "duration": 0.032669,
     "end_time": "2023-06-30T06:21:12.838843",
     "exception": false,
     "start_time": "2023-06-30T06:21:12.806174",
     "status": "completed"
    },
    "tags": []
   },
   "outputs": [
    {
     "name": "stdout",
     "output_type": "stream",
     "text": [
      "/kaggle/input/playground-series-s3e18/sample_submission.csv\n",
      "/kaggle/input/playground-series-s3e18/train.csv\n",
      "/kaggle/input/playground-series-s3e18/test.csv\n",
      "/kaggle/input/ec-mixed-class/mixed_fcfp.csv\n",
      "/kaggle/input/ec-mixed-class/mixed_desc.csv\n",
      "/kaggle/input/ec-mixed-class/mixed_ecfp.csv\n"
     ]
    }
   ],
   "source": [
    "# This Python 3 environment comes with many helpful analytics libraries installed\n",
    "# It is defined by the kaggle/python Docker image: https://github.com/kaggle/docker-python\n",
    "# For example, here's several helpful packages to load\n",
    "\n",
    "import numpy as np # linear algebra\n",
    "import pandas as pd # data processing, CSV file I/O (e.g. pd.read_csv)\n",
    "\n",
    "# Input data files are available in the read-only \"../input/\" directory\n",
    "# For example, running this (by clicking run or pressing Shift+Enter) will list all files under the input directory\n",
    "\n",
    "import os\n",
    "for dirname, _, filenames in os.walk('/kaggle/input'):\n",
    "    for filename in filenames:\n",
    "        print(os.path.join(dirname, filename))\n",
    "\n",
    "# You can write up to 20GB to the current directory (/kaggle/working/) that gets preserved as output when you create a version using \"Save & Run All\" \n",
    "# You can also write temporary files to /kaggle/temp/, but they won't be saved outside of the current session"
   ]
  },
  {
   "cell_type": "code",
   "execution_count": 2,
   "id": "8fd775f5",
   "metadata": {
    "execution": {
     "iopub.execute_input": "2023-06-30T06:21:12.854838Z",
     "iopub.status.busy": "2023-06-30T06:21:12.853758Z",
     "iopub.status.idle": "2023-06-30T06:21:13.108375Z",
     "shell.execute_reply": "2023-06-30T06:21:13.107488Z"
    },
    "papermill": {
     "duration": 0.2645,
     "end_time": "2023-06-30T06:21:13.110720",
     "exception": false,
     "start_time": "2023-06-30T06:21:12.846220",
     "status": "completed"
    },
    "tags": []
   },
   "outputs": [],
   "source": [
    "train_data=pd.read_csv('/kaggle/input/playground-series-s3e18/train.csv')\n",
    "test_data=pd.read_csv('/kaggle/input/playground-series-s3e18/test.csv')\n",
    "sample=pd.read_csv('/kaggle/input/playground-series-s3e18/sample_submission.csv')"
   ]
  },
  {
   "cell_type": "code",
   "execution_count": 3,
   "id": "3729edec",
   "metadata": {
    "execution": {
     "iopub.execute_input": "2023-06-30T06:21:13.124513Z",
     "iopub.status.busy": "2023-06-30T06:21:13.124154Z",
     "iopub.status.idle": "2023-06-30T06:21:13.166486Z",
     "shell.execute_reply": "2023-06-30T06:21:13.165488Z"
    },
    "papermill": {
     "duration": 0.052083,
     "end_time": "2023-06-30T06:21:13.169018",
     "exception": false,
     "start_time": "2023-06-30T06:21:13.116935",
     "status": "completed"
    },
    "tags": []
   },
   "outputs": [
    {
     "data": {
      "text/html": [
       "<div>\n",
       "<style scoped>\n",
       "    .dataframe tbody tr th:only-of-type {\n",
       "        vertical-align: middle;\n",
       "    }\n",
       "\n",
       "    .dataframe tbody tr th {\n",
       "        vertical-align: top;\n",
       "    }\n",
       "\n",
       "    .dataframe thead th {\n",
       "        text-align: right;\n",
       "    }\n",
       "</style>\n",
       "<table border=\"1\" class=\"dataframe\">\n",
       "  <thead>\n",
       "    <tr style=\"text-align: right;\">\n",
       "      <th></th>\n",
       "      <th>id</th>\n",
       "      <th>BertzCT</th>\n",
       "      <th>Chi1</th>\n",
       "      <th>Chi1n</th>\n",
       "      <th>Chi1v</th>\n",
       "      <th>Chi2n</th>\n",
       "      <th>Chi2v</th>\n",
       "      <th>Chi3v</th>\n",
       "      <th>Chi4n</th>\n",
       "      <th>EState_VSA1</th>\n",
       "      <th>...</th>\n",
       "      <th>SlogP_VSA3</th>\n",
       "      <th>VSA_EState9</th>\n",
       "      <th>fr_COO</th>\n",
       "      <th>fr_COO2</th>\n",
       "      <th>EC1</th>\n",
       "      <th>EC2</th>\n",
       "      <th>EC3</th>\n",
       "      <th>EC4</th>\n",
       "      <th>EC5</th>\n",
       "      <th>EC6</th>\n",
       "    </tr>\n",
       "  </thead>\n",
       "  <tbody>\n",
       "    <tr>\n",
       "      <th>0</th>\n",
       "      <td>0</td>\n",
       "      <td>323.390782</td>\n",
       "      <td>9.879918</td>\n",
       "      <td>5.875576</td>\n",
       "      <td>5.875576</td>\n",
       "      <td>4.304757</td>\n",
       "      <td>4.304757</td>\n",
       "      <td>2.754513</td>\n",
       "      <td>1.749203</td>\n",
       "      <td>0.000000</td>\n",
       "      <td>...</td>\n",
       "      <td>4.794537</td>\n",
       "      <td>35.527357</td>\n",
       "      <td>0</td>\n",
       "      <td>0</td>\n",
       "      <td>1</td>\n",
       "      <td>1</td>\n",
       "      <td>0</td>\n",
       "      <td>0</td>\n",
       "      <td>0</td>\n",
       "      <td>0</td>\n",
       "    </tr>\n",
       "    <tr>\n",
       "      <th>1</th>\n",
       "      <td>1</td>\n",
       "      <td>273.723798</td>\n",
       "      <td>7.259037</td>\n",
       "      <td>4.441467</td>\n",
       "      <td>5.834958</td>\n",
       "      <td>3.285046</td>\n",
       "      <td>4.485235</td>\n",
       "      <td>2.201375</td>\n",
       "      <td>1.289775</td>\n",
       "      <td>45.135471</td>\n",
       "      <td>...</td>\n",
       "      <td>13.825658</td>\n",
       "      <td>44.707310</td>\n",
       "      <td>0</td>\n",
       "      <td>0</td>\n",
       "      <td>0</td>\n",
       "      <td>1</td>\n",
       "      <td>1</td>\n",
       "      <td>0</td>\n",
       "      <td>0</td>\n",
       "      <td>0</td>\n",
       "    </tr>\n",
       "    <tr>\n",
       "      <th>2</th>\n",
       "      <td>2</td>\n",
       "      <td>521.643822</td>\n",
       "      <td>10.911303</td>\n",
       "      <td>8.527859</td>\n",
       "      <td>11.050864</td>\n",
       "      <td>6.665291</td>\n",
       "      <td>9.519706</td>\n",
       "      <td>5.824822</td>\n",
       "      <td>1.770579</td>\n",
       "      <td>15.645394</td>\n",
       "      <td>...</td>\n",
       "      <td>17.964475</td>\n",
       "      <td>45.660120</td>\n",
       "      <td>0</td>\n",
       "      <td>0</td>\n",
       "      <td>1</td>\n",
       "      <td>1</td>\n",
       "      <td>0</td>\n",
       "      <td>0</td>\n",
       "      <td>1</td>\n",
       "      <td>0</td>\n",
       "    </tr>\n",
       "    <tr>\n",
       "      <th>3</th>\n",
       "      <td>3</td>\n",
       "      <td>567.431166</td>\n",
       "      <td>12.453343</td>\n",
       "      <td>7.089119</td>\n",
       "      <td>12.833709</td>\n",
       "      <td>6.478023</td>\n",
       "      <td>10.978151</td>\n",
       "      <td>7.914542</td>\n",
       "      <td>3.067181</td>\n",
       "      <td>95.639554</td>\n",
       "      <td>...</td>\n",
       "      <td>31.961948</td>\n",
       "      <td>87.509997</td>\n",
       "      <td>0</td>\n",
       "      <td>0</td>\n",
       "      <td>1</td>\n",
       "      <td>1</td>\n",
       "      <td>0</td>\n",
       "      <td>0</td>\n",
       "      <td>0</td>\n",
       "      <td>0</td>\n",
       "    </tr>\n",
       "    <tr>\n",
       "      <th>4</th>\n",
       "      <td>4</td>\n",
       "      <td>112.770735</td>\n",
       "      <td>4.414719</td>\n",
       "      <td>2.866236</td>\n",
       "      <td>2.866236</td>\n",
       "      <td>1.875634</td>\n",
       "      <td>1.875634</td>\n",
       "      <td>1.036450</td>\n",
       "      <td>0.727664</td>\n",
       "      <td>17.980451</td>\n",
       "      <td>...</td>\n",
       "      <td>9.589074</td>\n",
       "      <td>33.333333</td>\n",
       "      <td>2</td>\n",
       "      <td>2</td>\n",
       "      <td>1</td>\n",
       "      <td>0</td>\n",
       "      <td>1</td>\n",
       "      <td>1</td>\n",
       "      <td>1</td>\n",
       "      <td>0</td>\n",
       "    </tr>\n",
       "  </tbody>\n",
       "</table>\n",
       "<p>5 rows × 38 columns</p>\n",
       "</div>"
      ],
      "text/plain": [
       "   id     BertzCT       Chi1     Chi1n      Chi1v     Chi2n      Chi2v  \\\n",
       "0   0  323.390782   9.879918  5.875576   5.875576  4.304757   4.304757   \n",
       "1   1  273.723798   7.259037  4.441467   5.834958  3.285046   4.485235   \n",
       "2   2  521.643822  10.911303  8.527859  11.050864  6.665291   9.519706   \n",
       "3   3  567.431166  12.453343  7.089119  12.833709  6.478023  10.978151   \n",
       "4   4  112.770735   4.414719  2.866236   2.866236  1.875634   1.875634   \n",
       "\n",
       "      Chi3v     Chi4n  EState_VSA1  ...  SlogP_VSA3  VSA_EState9  fr_COO  \\\n",
       "0  2.754513  1.749203     0.000000  ...    4.794537    35.527357       0   \n",
       "1  2.201375  1.289775    45.135471  ...   13.825658    44.707310       0   \n",
       "2  5.824822  1.770579    15.645394  ...   17.964475    45.660120       0   \n",
       "3  7.914542  3.067181    95.639554  ...   31.961948    87.509997       0   \n",
       "4  1.036450  0.727664    17.980451  ...    9.589074    33.333333       2   \n",
       "\n",
       "   fr_COO2  EC1  EC2  EC3  EC4  EC5  EC6  \n",
       "0        0    1    1    0    0    0    0  \n",
       "1        0    0    1    1    0    0    0  \n",
       "2        0    1    1    0    0    1    0  \n",
       "3        0    1    1    0    0    0    0  \n",
       "4        2    1    0    1    1    1    0  \n",
       "\n",
       "[5 rows x 38 columns]"
      ]
     },
     "execution_count": 3,
     "metadata": {},
     "output_type": "execute_result"
    }
   ],
   "source": [
    "train_data.head()"
   ]
  },
  {
   "cell_type": "code",
   "execution_count": 4,
   "id": "3503ebaa",
   "metadata": {
    "execution": {
     "iopub.execute_input": "2023-06-30T06:21:13.183191Z",
     "iopub.status.busy": "2023-06-30T06:21:13.182808Z",
     "iopub.status.idle": "2023-06-30T06:21:13.193123Z",
     "shell.execute_reply": "2023-06-30T06:21:13.192098Z"
    },
    "papermill": {
     "duration": 0.020756,
     "end_time": "2023-06-30T06:21:13.196063",
     "exception": false,
     "start_time": "2023-06-30T06:21:13.175307",
     "status": "completed"
    },
    "tags": []
   },
   "outputs": [
    {
     "data": {
      "text/plain": [
       "0"
      ]
     },
     "execution_count": 4,
     "metadata": {},
     "output_type": "execute_result"
    }
   ],
   "source": [
    "train_data.isna().sum().sum()"
   ]
  },
  {
   "cell_type": "code",
   "execution_count": 5,
   "id": "c23f2e91",
   "metadata": {
    "execution": {
     "iopub.execute_input": "2023-06-30T06:21:13.215796Z",
     "iopub.status.busy": "2023-06-30T06:21:13.215274Z",
     "iopub.status.idle": "2023-06-30T06:21:13.221834Z",
     "shell.execute_reply": "2023-06-30T06:21:13.220930Z"
    },
    "papermill": {
     "duration": 0.017613,
     "end_time": "2023-06-30T06:21:13.224412",
     "exception": false,
     "start_time": "2023-06-30T06:21:13.206799",
     "status": "completed"
    },
    "tags": []
   },
   "outputs": [
    {
     "data": {
      "text/plain": [
       "(9893, 32)"
      ]
     },
     "execution_count": 5,
     "metadata": {},
     "output_type": "execute_result"
    }
   ],
   "source": [
    "test_data.shape"
   ]
  },
  {
   "cell_type": "code",
   "execution_count": 6,
   "id": "733346c3",
   "metadata": {
    "execution": {
     "iopub.execute_input": "2023-06-30T06:21:13.241430Z",
     "iopub.status.busy": "2023-06-30T06:21:13.240646Z",
     "iopub.status.idle": "2023-06-30T06:21:13.246616Z",
     "shell.execute_reply": "2023-06-30T06:21:13.245804Z"
    },
    "papermill": {
     "duration": 0.017521,
     "end_time": "2023-06-30T06:21:13.249513",
     "exception": false,
     "start_time": "2023-06-30T06:21:13.231992",
     "status": "completed"
    },
    "tags": []
   },
   "outputs": [
    {
     "name": "stdout",
     "output_type": "stream",
     "text": [
      "Uncommon columns between train_data and test_data:\n",
      "EC1\n",
      "EC5\n",
      "EC4\n",
      "EC3\n",
      "EC2\n",
      "EC6\n"
     ]
    }
   ],
   "source": [
    "import pandas as pd\n",
    "\n",
    "# Get the column names from each dataset\n",
    "train_columns = set(train_data.columns)\n",
    "test_columns = set(test_data.columns)\n",
    "\n",
    "# Find the uncommon columns\n",
    "uncommon_columns = train_columns.symmetric_difference(test_columns)\n",
    "\n",
    "# Print the uncommon columns\n",
    "print(\"Uncommon columns between train_data and test_data:\")\n",
    "for column in uncommon_columns:\n",
    "    print(column)"
   ]
  },
  {
   "cell_type": "code",
   "execution_count": 7,
   "id": "874db640",
   "metadata": {
    "execution": {
     "iopub.execute_input": "2023-06-30T06:21:13.268931Z",
     "iopub.status.busy": "2023-06-30T06:21:13.268564Z",
     "iopub.status.idle": "2023-06-30T06:21:13.274784Z",
     "shell.execute_reply": "2023-06-30T06:21:13.273971Z"
    },
    "papermill": {
     "duration": 0.018438,
     "end_time": "2023-06-30T06:21:13.276814",
     "exception": false,
     "start_time": "2023-06-30T06:21:13.258376",
     "status": "completed"
    },
    "tags": []
   },
   "outputs": [
    {
     "data": {
      "text/plain": [
       "Index(['id', 'BertzCT', 'Chi1', 'Chi1n', 'Chi1v', 'Chi2n', 'Chi2v', 'Chi3v',\n",
       "       'Chi4n', 'EState_VSA1', 'EState_VSA2', 'ExactMolWt', 'FpDensityMorgan1',\n",
       "       'FpDensityMorgan2', 'FpDensityMorgan3', 'HallKierAlpha',\n",
       "       'HeavyAtomMolWt', 'Kappa3', 'MaxAbsEStateIndex', 'MinEStateIndex',\n",
       "       'NumHeteroatoms', 'PEOE_VSA10', 'PEOE_VSA14', 'PEOE_VSA6', 'PEOE_VSA7',\n",
       "       'PEOE_VSA8', 'SMR_VSA10', 'SMR_VSA5', 'SlogP_VSA3', 'VSA_EState9',\n",
       "       'fr_COO', 'fr_COO2', 'EC1', 'EC2', 'EC3', 'EC4', 'EC5', 'EC6'],\n",
       "      dtype='object')"
      ]
     },
     "execution_count": 7,
     "metadata": {},
     "output_type": "execute_result"
    }
   ],
   "source": [
    "train_data.columns"
   ]
  },
  {
   "cell_type": "markdown",
   "id": "c0b3983f",
   "metadata": {
    "papermill": {
     "duration": 0.008529,
     "end_time": "2023-06-30T06:21:13.294111",
     "exception": false,
     "start_time": "2023-06-30T06:21:13.285582",
     "status": "completed"
    },
    "tags": []
   },
   "source": [
    "finding the number of similar test_data columns"
   ]
  },
  {
   "cell_type": "code",
   "execution_count": 8,
   "id": "9fb7f921",
   "metadata": {
    "execution": {
     "iopub.execute_input": "2023-06-30T06:21:13.310912Z",
     "iopub.status.busy": "2023-06-30T06:21:13.310440Z",
     "iopub.status.idle": "2023-06-30T06:21:13.317326Z",
     "shell.execute_reply": "2023-06-30T06:21:13.316585Z"
    },
    "papermill": {
     "duration": 0.017041,
     "end_time": "2023-06-30T06:21:13.319394",
     "exception": false,
     "start_time": "2023-06-30T06:21:13.302353",
     "status": "completed"
    },
    "tags": []
   },
   "outputs": [
    {
     "data": {
      "text/plain": [
       "Index(['id', 'BertzCT', 'Chi1', 'Chi1n', 'Chi1v', 'Chi2n', 'Chi2v', 'Chi3v',\n",
       "       'Chi4n', 'EState_VSA1', 'EState_VSA2', 'ExactMolWt', 'FpDensityMorgan1',\n",
       "       'FpDensityMorgan2', 'FpDensityMorgan3', 'HallKierAlpha',\n",
       "       'HeavyAtomMolWt', 'Kappa3', 'MaxAbsEStateIndex', 'MinEStateIndex',\n",
       "       'NumHeteroatoms', 'PEOE_VSA10', 'PEOE_VSA14', 'PEOE_VSA6', 'PEOE_VSA7',\n",
       "       'PEOE_VSA8', 'SMR_VSA10', 'SMR_VSA5', 'SlogP_VSA3', 'VSA_EState9',\n",
       "       'fr_COO', 'fr_COO2'],\n",
       "      dtype='object')"
      ]
     },
     "execution_count": 8,
     "metadata": {},
     "output_type": "execute_result"
    }
   ],
   "source": [
    "test_data.columns"
   ]
  },
  {
   "cell_type": "markdown",
   "id": "f6034fe0",
   "metadata": {
    "papermill": {
     "duration": 0.006596,
     "end_time": "2023-06-30T06:21:13.332891",
     "exception": false,
     "start_time": "2023-06-30T06:21:13.326295",
     "status": "completed"
    },
    "tags": []
   },
   "source": [
    "finding the number of unique values of the target columns to understand how to classify"
   ]
  },
  {
   "cell_type": "code",
   "execution_count": 9,
   "id": "8425c905",
   "metadata": {
    "execution": {
     "iopub.execute_input": "2023-06-30T06:21:13.348218Z",
     "iopub.status.busy": "2023-06-30T06:21:13.347813Z",
     "iopub.status.idle": "2023-06-30T06:21:13.359146Z",
     "shell.execute_reply": "2023-06-30T06:21:13.358161Z"
    },
    "papermill": {
     "duration": 0.021683,
     "end_time": "2023-06-30T06:21:13.361256",
     "exception": false,
     "start_time": "2023-06-30T06:21:13.339573",
     "status": "completed"
    },
    "tags": []
   },
   "outputs": [
    {
     "data": {
      "text/plain": [
       "array([1, 0])"
      ]
     },
     "execution_count": 9,
     "metadata": {},
     "output_type": "execute_result"
    }
   ],
   "source": [
    "train_data['EC2'].unique()"
   ]
  },
  {
   "cell_type": "markdown",
   "id": "6dc816d9",
   "metadata": {
    "papermill": {
     "duration": 0.006733,
     "end_time": "2023-06-30T06:21:13.374931",
     "exception": false,
     "start_time": "2023-06-30T06:21:13.368198",
     "status": "completed"
    },
    "tags": []
   },
   "source": [
    "therefore the values of EC1 and EC2 are unique"
   ]
  },
  {
   "cell_type": "markdown",
   "id": "3b956515",
   "metadata": {
    "papermill": {
     "duration": 0.006437,
     "end_time": "2023-06-30T06:21:13.388135",
     "exception": false,
     "start_time": "2023-06-30T06:21:13.381698",
     "status": "completed"
    },
    "tags": []
   },
   "source": [
    "storing the training and testing data as needed"
   ]
  },
  {
   "cell_type": "code",
   "execution_count": 10,
   "id": "793805c1",
   "metadata": {
    "execution": {
     "iopub.execute_input": "2023-06-30T06:21:13.403304Z",
     "iopub.status.busy": "2023-06-30T06:21:13.402924Z",
     "iopub.status.idle": "2023-06-30T06:21:13.415419Z",
     "shell.execute_reply": "2023-06-30T06:21:13.414298Z"
    },
    "papermill": {
     "duration": 0.022718,
     "end_time": "2023-06-30T06:21:13.417600",
     "exception": false,
     "start_time": "2023-06-30T06:21:13.394882",
     "status": "completed"
    },
    "tags": []
   },
   "outputs": [],
   "source": [
    "# Extract column names for test_1 dataset\n",
    "test_columns = test_data.columns[1:]\n",
    "\n",
    "# Create test_1 dataset from test_data\n",
    "test_1 = test_data[test_columns]\n",
    "\n",
    "# Extract column names for train_1 dataset\n",
    "train_columns = [column for column in train_data.columns if column in test_columns]\n",
    "\n",
    "# Create train_1 dataset from train_data\n",
    "train_1 = train_data[train_columns]"
   ]
  },
  {
   "cell_type": "code",
   "execution_count": 11,
   "id": "5a2e9f19",
   "metadata": {
    "execution": {
     "iopub.execute_input": "2023-06-30T06:21:13.433232Z",
     "iopub.status.busy": "2023-06-30T06:21:13.432660Z",
     "iopub.status.idle": "2023-06-30T06:21:13.440507Z",
     "shell.execute_reply": "2023-06-30T06:21:13.439678Z"
    },
    "papermill": {
     "duration": 0.01772,
     "end_time": "2023-06-30T06:21:13.442477",
     "exception": false,
     "start_time": "2023-06-30T06:21:13.424757",
     "status": "completed"
    },
    "tags": []
   },
   "outputs": [
    {
     "data": {
      "text/plain": [
       "0"
      ]
     },
     "execution_count": 11,
     "metadata": {},
     "output_type": "execute_result"
    }
   ],
   "source": [
    "train_1.isnull().sum().sum()"
   ]
  },
  {
   "cell_type": "markdown",
   "id": "4581491b",
   "metadata": {
    "papermill": {
     "duration": 0.00675,
     "end_time": "2023-06-30T06:21:13.456162",
     "exception": false,
     "start_time": "2023-06-30T06:21:13.449412",
     "status": "completed"
    },
    "tags": []
   },
   "source": [
    "basic rf modelling to kick it off"
   ]
  },
  {
   "cell_type": "code",
   "execution_count": 12,
   "id": "7e746442",
   "metadata": {
    "execution": {
     "iopub.execute_input": "2023-06-30T06:21:13.471654Z",
     "iopub.status.busy": "2023-06-30T06:21:13.471245Z",
     "iopub.status.idle": "2023-06-30T06:21:13.476057Z",
     "shell.execute_reply": "2023-06-30T06:21:13.474896Z"
    },
    "papermill": {
     "duration": 0.015022,
     "end_time": "2023-06-30T06:21:13.477976",
     "exception": false,
     "start_time": "2023-06-30T06:21:13.462954",
     "status": "completed"
    },
    "tags": []
   },
   "outputs": [],
   "source": [
    "y_train_1=train_data['EC1']\n",
    "y_train_2=train_data['EC2']"
   ]
  },
  {
   "cell_type": "markdown",
   "id": "301a4411",
   "metadata": {
    "papermill": {
     "duration": 0.0067,
     "end_time": "2023-06-30T06:21:13.491577",
     "exception": false,
     "start_time": "2023-06-30T06:21:13.484877",
     "status": "completed"
    },
    "tags": []
   },
   "source": [
    "fitting and predicting the first category column"
   ]
  },
  {
   "cell_type": "code",
   "execution_count": 13,
   "id": "ab1e738b",
   "metadata": {
    "execution": {
     "iopub.execute_input": "2023-06-30T06:21:13.506776Z",
     "iopub.status.busy": "2023-06-30T06:21:13.506383Z",
     "iopub.status.idle": "2023-06-30T06:21:21.496057Z",
     "shell.execute_reply": "2023-06-30T06:21:21.495001Z"
    },
    "papermill": {
     "duration": 8.000279,
     "end_time": "2023-06-30T06:21:21.498604",
     "exception": false,
     "start_time": "2023-06-30T06:21:13.498325",
     "status": "completed"
    },
    "tags": []
   },
   "outputs": [],
   "source": [
    "from sklearn.ensemble import RandomForestClassifier\n",
    "\n",
    "# Create an object of RandomForestClassifier\n",
    "model1= RandomForestClassifier()\n",
    "\n",
    "model1.fit(train_1,y_train_1)\n",
    "y_pred_1=model1.predict(test_1)"
   ]
  },
  {
   "cell_type": "code",
   "execution_count": 14,
   "id": "b0611439",
   "metadata": {
    "execution": {
     "iopub.execute_input": "2023-06-30T06:21:21.514305Z",
     "iopub.status.busy": "2023-06-30T06:21:21.513946Z",
     "iopub.status.idle": "2023-06-30T06:21:21.520464Z",
     "shell.execute_reply": "2023-06-30T06:21:21.519412Z"
    },
    "papermill": {
     "duration": 0.016889,
     "end_time": "2023-06-30T06:21:21.522663",
     "exception": false,
     "start_time": "2023-06-30T06:21:21.505774",
     "status": "completed"
    },
    "tags": []
   },
   "outputs": [
    {
     "data": {
      "text/plain": [
       "True"
      ]
     },
     "execution_count": 14,
     "metadata": {},
     "output_type": "execute_result"
    }
   ],
   "source": [
    "test_1.shape[0]==len(y_pred_1)"
   ]
  },
  {
   "cell_type": "code",
   "execution_count": 15,
   "id": "c3e3200a",
   "metadata": {
    "execution": {
     "iopub.execute_input": "2023-06-30T06:21:21.538424Z",
     "iopub.status.busy": "2023-06-30T06:21:21.538059Z",
     "iopub.status.idle": "2023-06-30T06:21:28.553292Z",
     "shell.execute_reply": "2023-06-30T06:21:28.552363Z"
    },
    "papermill": {
     "duration": 7.026218,
     "end_time": "2023-06-30T06:21:28.555913",
     "exception": false,
     "start_time": "2023-06-30T06:21:21.529695",
     "status": "completed"
    },
    "tags": []
   },
   "outputs": [],
   "source": [
    "model2=RandomForestClassifier()\n",
    "model2.fit(train_1,y_train_2)\n",
    "y_pred_2=model2.predict(test_1)"
   ]
  },
  {
   "cell_type": "code",
   "execution_count": 16,
   "id": "ac0da436",
   "metadata": {
    "execution": {
     "iopub.execute_input": "2023-06-30T06:21:28.572323Z",
     "iopub.status.busy": "2023-06-30T06:21:28.571616Z",
     "iopub.status.idle": "2023-06-30T06:21:28.577873Z",
     "shell.execute_reply": "2023-06-30T06:21:28.576953Z"
    },
    "papermill": {
     "duration": 0.016627,
     "end_time": "2023-06-30T06:21:28.580024",
     "exception": false,
     "start_time": "2023-06-30T06:21:28.563397",
     "status": "completed"
    },
    "tags": []
   },
   "outputs": [
    {
     "data": {
      "text/plain": [
       "True"
      ]
     },
     "execution_count": 16,
     "metadata": {},
     "output_type": "execute_result"
    }
   ],
   "source": [
    "len(y_pred_2)==test_1.shape[0]"
   ]
  },
  {
   "cell_type": "markdown",
   "id": "e91199ad",
   "metadata": {
    "papermill": {
     "duration": 0.007019,
     "end_time": "2023-06-30T06:21:28.594229",
     "exception": false,
     "start_time": "2023-06-30T06:21:28.587210",
     "status": "completed"
    },
    "tags": []
   },
   "source": [
    "creating a submission file"
   ]
  },
  {
   "cell_type": "markdown",
   "id": "e919ffd0",
   "metadata": {
    "papermill": {
     "duration": 0.006815,
     "end_time": "2023-06-30T06:21:28.608205",
     "exception": false,
     "start_time": "2023-06-30T06:21:28.601390",
     "status": "completed"
    },
    "tags": []
   },
   "source": [
    "first creating a pandas dataframe as needed"
   ]
  },
  {
   "cell_type": "code",
   "execution_count": 17,
   "id": "43378fc7",
   "metadata": {
    "execution": {
     "iopub.execute_input": "2023-06-30T06:21:28.624225Z",
     "iopub.status.busy": "2023-06-30T06:21:28.623861Z",
     "iopub.status.idle": "2023-06-30T06:21:28.632891Z",
     "shell.execute_reply": "2023-06-30T06:21:28.632051Z"
    },
    "papermill": {
     "duration": 0.020023,
     "end_time": "2023-06-30T06:21:28.635300",
     "exception": false,
     "start_time": "2023-06-30T06:21:28.615277",
     "status": "completed"
    },
    "tags": []
   },
   "outputs": [],
   "source": [
    "# Create a DataFrame with 'id' column from test_1\n",
    "df = pd.DataFrame({'id': test_data['id']})\n",
    "\n",
    "# Add 'EC1' column containing the array y_train_1\n",
    "df['EC1'] = pd.Series(y_train_1)\n",
    "\n",
    "# Add 'EC2' column containing the array y_train_2\n",
    "df['EC2'] = pd.Series(y_train_2)"
   ]
  },
  {
   "cell_type": "code",
   "execution_count": 18,
   "id": "717b0bba",
   "metadata": {
    "execution": {
     "iopub.execute_input": "2023-06-30T06:21:28.651320Z",
     "iopub.status.busy": "2023-06-30T06:21:28.650956Z",
     "iopub.status.idle": "2023-06-30T06:21:28.657664Z",
     "shell.execute_reply": "2023-06-30T06:21:28.656530Z"
    },
    "papermill": {
     "duration": 0.017485,
     "end_time": "2023-06-30T06:21:28.660064",
     "exception": false,
     "start_time": "2023-06-30T06:21:28.642579",
     "status": "completed"
    },
    "tags": []
   },
   "outputs": [
    {
     "data": {
      "text/plain": [
       "(9893, 3)"
      ]
     },
     "execution_count": 18,
     "metadata": {},
     "output_type": "execute_result"
    }
   ],
   "source": [
    "df.shape"
   ]
  },
  {
   "cell_type": "markdown",
   "id": "78549a75",
   "metadata": {
    "papermill": {
     "duration": 0.007075,
     "end_time": "2023-06-30T06:21:28.674751",
     "exception": false,
     "start_time": "2023-06-30T06:21:28.667676",
     "status": "completed"
    },
    "tags": []
   },
   "source": [
    "submitting the df dataset as needed"
   ]
  },
  {
   "cell_type": "code",
   "execution_count": 19,
   "id": "779a377d",
   "metadata": {
    "execution": {
     "iopub.execute_input": "2023-06-30T06:21:28.691327Z",
     "iopub.status.busy": "2023-06-30T06:21:28.690924Z",
     "iopub.status.idle": "2023-06-30T06:21:28.717486Z",
     "shell.execute_reply": "2023-06-30T06:21:28.716484Z"
    },
    "papermill": {
     "duration": 0.037797,
     "end_time": "2023-06-30T06:21:28.719894",
     "exception": false,
     "start_time": "2023-06-30T06:21:28.682097",
     "status": "completed"
    },
    "tags": []
   },
   "outputs": [],
   "source": [
    "df.to_csv('submission.csv')"
   ]
  }
 ],
 "metadata": {
  "kernelspec": {
   "display_name": "Python 3",
   "language": "python",
   "name": "python3"
  },
  "language_info": {
   "codemirror_mode": {
    "name": "ipython",
    "version": 3
   },
   "file_extension": ".py",
   "mimetype": "text/x-python",
   "name": "python",
   "nbconvert_exporter": "python",
   "pygments_lexer": "ipython3",
   "version": "3.10.10"
  },
  "papermill": {
   "default_parameters": {},
   "duration": 26.838544,
   "end_time": "2023-06-30T06:21:29.649773",
   "environment_variables": {},
   "exception": null,
   "input_path": "__notebook__.ipynb",
   "output_path": "__notebook__.ipynb",
   "parameters": {},
   "start_time": "2023-06-30T06:21:02.811229",
   "version": "2.4.0"
  }
 },
 "nbformat": 4,
 "nbformat_minor": 5
}
