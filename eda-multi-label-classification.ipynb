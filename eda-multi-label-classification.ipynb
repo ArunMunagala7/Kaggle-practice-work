{
 "cells": [
  {
   "cell_type": "code",
   "execution_count": 1,
   "id": "7c2b6acf",
   "metadata": {
    "_cell_guid": "b1076dfc-b9ad-4769-8c92-a6c4dae69d19",
    "_uuid": "8f2839f25d086af736a60e9eeb907d3b93b6e0e5",
    "execution": {
     "iopub.execute_input": "2023-06-30T06:27:31.371479Z",
     "iopub.status.busy": "2023-06-30T06:27:31.370949Z",
     "iopub.status.idle": "2023-06-30T06:27:31.391973Z",
     "shell.execute_reply": "2023-06-30T06:27:31.390398Z"
    },
    "papermill": {
     "duration": 0.035661,
     "end_time": "2023-06-30T06:27:31.394886",
     "exception": false,
     "start_time": "2023-06-30T06:27:31.359225",
     "status": "completed"
    },
    "tags": []
   },
   "outputs": [
    {
     "name": "stdout",
     "output_type": "stream",
     "text": [
      "/kaggle/input/playground-series-s3e18/sample_submission.csv\n",
      "/kaggle/input/playground-series-s3e18/train.csv\n",
      "/kaggle/input/playground-series-s3e18/test.csv\n",
      "/kaggle/input/ec-mixed-class/mixed_fcfp.csv\n",
      "/kaggle/input/ec-mixed-class/mixed_desc.csv\n",
      "/kaggle/input/ec-mixed-class/mixed_ecfp.csv\n"
     ]
    }
   ],
   "source": [
    "# This Python 3 environment comes with many helpful analytics libraries installed\n",
    "# It is defined by the kaggle/python Docker image: https://github.com/kaggle/docker-python\n",
    "# For example, here's several helpful packages to load\n",
    "\n",
    "import numpy as np # linear algebra\n",
    "import pandas as pd # data processing, CSV file I/O (e.g. pd.read_csv)\n",
    "\n",
    "# Input data files are available in the read-only \"../input/\" directory\n",
    "# For example, running this (by clicking run or pressing Shift+Enter) will list all files under the input directory\n",
    "\n",
    "import os\n",
    "for dirname, _, filenames in os.walk('/kaggle/input'):\n",
    "    for filename in filenames:\n",
    "        print(os.path.join(dirname, filename))\n",
    "\n",
    "# You can write up to 20GB to the current directory (/kaggle/working/) that gets preserved as output when you create a version using \"Save & Run All\" \n",
    "# You can also write temporary files to /kaggle/temp/, but they won't be saved outside of the current session"
   ]
  },
  {
   "cell_type": "code",
   "execution_count": 2,
   "id": "b7e2fd2c",
   "metadata": {
    "execution": {
     "iopub.execute_input": "2023-06-30T06:27:31.416648Z",
     "iopub.status.busy": "2023-06-30T06:27:31.415666Z",
     "iopub.status.idle": "2023-06-30T06:27:31.734351Z",
     "shell.execute_reply": "2023-06-30T06:27:31.733259Z"
    },
    "papermill": {
     "duration": 0.332583,
     "end_time": "2023-06-30T06:27:31.737146",
     "exception": false,
     "start_time": "2023-06-30T06:27:31.404563",
     "status": "completed"
    },
    "tags": []
   },
   "outputs": [],
   "source": [
    "train_data=pd.read_csv('/kaggle/input/playground-series-s3e18/train.csv')\n",
    "test_data=pd.read_csv('/kaggle/input/playground-series-s3e18/test.csv')\n",
    "sample=pd.read_csv('/kaggle/input/playground-series-s3e18/sample_submission.csv')"
   ]
  },
  {
   "cell_type": "code",
   "execution_count": 3,
   "id": "fee5bee0",
   "metadata": {
    "execution": {
     "iopub.execute_input": "2023-06-30T06:27:31.758403Z",
     "iopub.status.busy": "2023-06-30T06:27:31.757910Z",
     "iopub.status.idle": "2023-06-30T06:27:31.819035Z",
     "shell.execute_reply": "2023-06-30T06:27:31.817610Z"
    },
    "papermill": {
     "duration": 0.075214,
     "end_time": "2023-06-30T06:27:31.821928",
     "exception": false,
     "start_time": "2023-06-30T06:27:31.746714",
     "status": "completed"
    },
    "tags": []
   },
   "outputs": [
    {
     "data": {
      "text/html": [
       "<div>\n",
       "<style scoped>\n",
       "    .dataframe tbody tr th:only-of-type {\n",
       "        vertical-align: middle;\n",
       "    }\n",
       "\n",
       "    .dataframe tbody tr th {\n",
       "        vertical-align: top;\n",
       "    }\n",
       "\n",
       "    .dataframe thead th {\n",
       "        text-align: right;\n",
       "    }\n",
       "</style>\n",
       "<table border=\"1\" class=\"dataframe\">\n",
       "  <thead>\n",
       "    <tr style=\"text-align: right;\">\n",
       "      <th></th>\n",
       "      <th>id</th>\n",
       "      <th>BertzCT</th>\n",
       "      <th>Chi1</th>\n",
       "      <th>Chi1n</th>\n",
       "      <th>Chi1v</th>\n",
       "      <th>Chi2n</th>\n",
       "      <th>Chi2v</th>\n",
       "      <th>Chi3v</th>\n",
       "      <th>Chi4n</th>\n",
       "      <th>EState_VSA1</th>\n",
       "      <th>...</th>\n",
       "      <th>SlogP_VSA3</th>\n",
       "      <th>VSA_EState9</th>\n",
       "      <th>fr_COO</th>\n",
       "      <th>fr_COO2</th>\n",
       "      <th>EC1</th>\n",
       "      <th>EC2</th>\n",
       "      <th>EC3</th>\n",
       "      <th>EC4</th>\n",
       "      <th>EC5</th>\n",
       "      <th>EC6</th>\n",
       "    </tr>\n",
       "  </thead>\n",
       "  <tbody>\n",
       "    <tr>\n",
       "      <th>0</th>\n",
       "      <td>0</td>\n",
       "      <td>323.390782</td>\n",
       "      <td>9.879918</td>\n",
       "      <td>5.875576</td>\n",
       "      <td>5.875576</td>\n",
       "      <td>4.304757</td>\n",
       "      <td>4.304757</td>\n",
       "      <td>2.754513</td>\n",
       "      <td>1.749203</td>\n",
       "      <td>0.000000</td>\n",
       "      <td>...</td>\n",
       "      <td>4.794537</td>\n",
       "      <td>35.527357</td>\n",
       "      <td>0</td>\n",
       "      <td>0</td>\n",
       "      <td>1</td>\n",
       "      <td>1</td>\n",
       "      <td>0</td>\n",
       "      <td>0</td>\n",
       "      <td>0</td>\n",
       "      <td>0</td>\n",
       "    </tr>\n",
       "    <tr>\n",
       "      <th>1</th>\n",
       "      <td>1</td>\n",
       "      <td>273.723798</td>\n",
       "      <td>7.259037</td>\n",
       "      <td>4.441467</td>\n",
       "      <td>5.834958</td>\n",
       "      <td>3.285046</td>\n",
       "      <td>4.485235</td>\n",
       "      <td>2.201375</td>\n",
       "      <td>1.289775</td>\n",
       "      <td>45.135471</td>\n",
       "      <td>...</td>\n",
       "      <td>13.825658</td>\n",
       "      <td>44.707310</td>\n",
       "      <td>0</td>\n",
       "      <td>0</td>\n",
       "      <td>0</td>\n",
       "      <td>1</td>\n",
       "      <td>1</td>\n",
       "      <td>0</td>\n",
       "      <td>0</td>\n",
       "      <td>0</td>\n",
       "    </tr>\n",
       "    <tr>\n",
       "      <th>2</th>\n",
       "      <td>2</td>\n",
       "      <td>521.643822</td>\n",
       "      <td>10.911303</td>\n",
       "      <td>8.527859</td>\n",
       "      <td>11.050864</td>\n",
       "      <td>6.665291</td>\n",
       "      <td>9.519706</td>\n",
       "      <td>5.824822</td>\n",
       "      <td>1.770579</td>\n",
       "      <td>15.645394</td>\n",
       "      <td>...</td>\n",
       "      <td>17.964475</td>\n",
       "      <td>45.660120</td>\n",
       "      <td>0</td>\n",
       "      <td>0</td>\n",
       "      <td>1</td>\n",
       "      <td>1</td>\n",
       "      <td>0</td>\n",
       "      <td>0</td>\n",
       "      <td>1</td>\n",
       "      <td>0</td>\n",
       "    </tr>\n",
       "    <tr>\n",
       "      <th>3</th>\n",
       "      <td>3</td>\n",
       "      <td>567.431166</td>\n",
       "      <td>12.453343</td>\n",
       "      <td>7.089119</td>\n",
       "      <td>12.833709</td>\n",
       "      <td>6.478023</td>\n",
       "      <td>10.978151</td>\n",
       "      <td>7.914542</td>\n",
       "      <td>3.067181</td>\n",
       "      <td>95.639554</td>\n",
       "      <td>...</td>\n",
       "      <td>31.961948</td>\n",
       "      <td>87.509997</td>\n",
       "      <td>0</td>\n",
       "      <td>0</td>\n",
       "      <td>1</td>\n",
       "      <td>1</td>\n",
       "      <td>0</td>\n",
       "      <td>0</td>\n",
       "      <td>0</td>\n",
       "      <td>0</td>\n",
       "    </tr>\n",
       "    <tr>\n",
       "      <th>4</th>\n",
       "      <td>4</td>\n",
       "      <td>112.770735</td>\n",
       "      <td>4.414719</td>\n",
       "      <td>2.866236</td>\n",
       "      <td>2.866236</td>\n",
       "      <td>1.875634</td>\n",
       "      <td>1.875634</td>\n",
       "      <td>1.036450</td>\n",
       "      <td>0.727664</td>\n",
       "      <td>17.980451</td>\n",
       "      <td>...</td>\n",
       "      <td>9.589074</td>\n",
       "      <td>33.333333</td>\n",
       "      <td>2</td>\n",
       "      <td>2</td>\n",
       "      <td>1</td>\n",
       "      <td>0</td>\n",
       "      <td>1</td>\n",
       "      <td>1</td>\n",
       "      <td>1</td>\n",
       "      <td>0</td>\n",
       "    </tr>\n",
       "  </tbody>\n",
       "</table>\n",
       "<p>5 rows × 38 columns</p>\n",
       "</div>"
      ],
      "text/plain": [
       "   id     BertzCT       Chi1     Chi1n      Chi1v     Chi2n      Chi2v  \\\n",
       "0   0  323.390782   9.879918  5.875576   5.875576  4.304757   4.304757   \n",
       "1   1  273.723798   7.259037  4.441467   5.834958  3.285046   4.485235   \n",
       "2   2  521.643822  10.911303  8.527859  11.050864  6.665291   9.519706   \n",
       "3   3  567.431166  12.453343  7.089119  12.833709  6.478023  10.978151   \n",
       "4   4  112.770735   4.414719  2.866236   2.866236  1.875634   1.875634   \n",
       "\n",
       "      Chi3v     Chi4n  EState_VSA1  ...  SlogP_VSA3  VSA_EState9  fr_COO  \\\n",
       "0  2.754513  1.749203     0.000000  ...    4.794537    35.527357       0   \n",
       "1  2.201375  1.289775    45.135471  ...   13.825658    44.707310       0   \n",
       "2  5.824822  1.770579    15.645394  ...   17.964475    45.660120       0   \n",
       "3  7.914542  3.067181    95.639554  ...   31.961948    87.509997       0   \n",
       "4  1.036450  0.727664    17.980451  ...    9.589074    33.333333       2   \n",
       "\n",
       "   fr_COO2  EC1  EC2  EC3  EC4  EC5  EC6  \n",
       "0        0    1    1    0    0    0    0  \n",
       "1        0    0    1    1    0    0    0  \n",
       "2        0    1    1    0    0    1    0  \n",
       "3        0    1    1    0    0    0    0  \n",
       "4        2    1    0    1    1    1    0  \n",
       "\n",
       "[5 rows x 38 columns]"
      ]
     },
     "execution_count": 3,
     "metadata": {},
     "output_type": "execute_result"
    }
   ],
   "source": [
    "train_data.head()"
   ]
  },
  {
   "cell_type": "code",
   "execution_count": 4,
   "id": "135467fb",
   "metadata": {
    "execution": {
     "iopub.execute_input": "2023-06-30T06:27:31.846800Z",
     "iopub.status.busy": "2023-06-30T06:27:31.845990Z",
     "iopub.status.idle": "2023-06-30T06:27:31.859082Z",
     "shell.execute_reply": "2023-06-30T06:27:31.858175Z"
    },
    "papermill": {
     "duration": 0.027044,
     "end_time": "2023-06-30T06:27:31.861466",
     "exception": false,
     "start_time": "2023-06-30T06:27:31.834422",
     "status": "completed"
    },
    "tags": []
   },
   "outputs": [
    {
     "data": {
      "text/plain": [
       "0"
      ]
     },
     "execution_count": 4,
     "metadata": {},
     "output_type": "execute_result"
    }
   ],
   "source": [
    "train_data.isna().sum().sum()"
   ]
  },
  {
   "cell_type": "code",
   "execution_count": 5,
   "id": "4e06207e",
   "metadata": {
    "execution": {
     "iopub.execute_input": "2023-06-30T06:27:31.884061Z",
     "iopub.status.busy": "2023-06-30T06:27:31.883162Z",
     "iopub.status.idle": "2023-06-30T06:27:31.890324Z",
     "shell.execute_reply": "2023-06-30T06:27:31.889234Z"
    },
    "papermill": {
     "duration": 0.021189,
     "end_time": "2023-06-30T06:27:31.892585",
     "exception": false,
     "start_time": "2023-06-30T06:27:31.871396",
     "status": "completed"
    },
    "tags": []
   },
   "outputs": [
    {
     "data": {
      "text/plain": [
       "(9893, 32)"
      ]
     },
     "execution_count": 5,
     "metadata": {},
     "output_type": "execute_result"
    }
   ],
   "source": [
    "test_data.shape"
   ]
  },
  {
   "cell_type": "code",
   "execution_count": 6,
   "id": "4b118751",
   "metadata": {
    "execution": {
     "iopub.execute_input": "2023-06-30T06:27:31.915954Z",
     "iopub.status.busy": "2023-06-30T06:27:31.914638Z",
     "iopub.status.idle": "2023-06-30T06:27:31.922749Z",
     "shell.execute_reply": "2023-06-30T06:27:31.921518Z"
    },
    "papermill": {
     "duration": 0.023252,
     "end_time": "2023-06-30T06:27:31.926016",
     "exception": false,
     "start_time": "2023-06-30T06:27:31.902764",
     "status": "completed"
    },
    "tags": []
   },
   "outputs": [
    {
     "name": "stdout",
     "output_type": "stream",
     "text": [
      "Uncommon columns between train_data and test_data:\n",
      "EC2\n",
      "EC3\n",
      "EC1\n",
      "EC4\n",
      "EC5\n",
      "EC6\n"
     ]
    }
   ],
   "source": [
    "import pandas as pd\n",
    "\n",
    "# Get the column names from each dataset\n",
    "train_columns = set(train_data.columns)\n",
    "test_columns = set(test_data.columns)\n",
    "\n",
    "# Find the uncommon columns\n",
    "uncommon_columns = train_columns.symmetric_difference(test_columns)\n",
    "\n",
    "# Print the uncommon columns\n",
    "print(\"Uncommon columns between train_data and test_data:\")\n",
    "for column in uncommon_columns:\n",
    "    print(column)"
   ]
  },
  {
   "cell_type": "code",
   "execution_count": 7,
   "id": "62e087d0",
   "metadata": {
    "execution": {
     "iopub.execute_input": "2023-06-30T06:27:31.948635Z",
     "iopub.status.busy": "2023-06-30T06:27:31.948186Z",
     "iopub.status.idle": "2023-06-30T06:27:31.956666Z",
     "shell.execute_reply": "2023-06-30T06:27:31.955242Z"
    },
    "papermill": {
     "duration": 0.022875,
     "end_time": "2023-06-30T06:27:31.959168",
     "exception": false,
     "start_time": "2023-06-30T06:27:31.936293",
     "status": "completed"
    },
    "tags": []
   },
   "outputs": [
    {
     "data": {
      "text/plain": [
       "Index(['id', 'BertzCT', 'Chi1', 'Chi1n', 'Chi1v', 'Chi2n', 'Chi2v', 'Chi3v',\n",
       "       'Chi4n', 'EState_VSA1', 'EState_VSA2', 'ExactMolWt', 'FpDensityMorgan1',\n",
       "       'FpDensityMorgan2', 'FpDensityMorgan3', 'HallKierAlpha',\n",
       "       'HeavyAtomMolWt', 'Kappa3', 'MaxAbsEStateIndex', 'MinEStateIndex',\n",
       "       'NumHeteroatoms', 'PEOE_VSA10', 'PEOE_VSA14', 'PEOE_VSA6', 'PEOE_VSA7',\n",
       "       'PEOE_VSA8', 'SMR_VSA10', 'SMR_VSA5', 'SlogP_VSA3', 'VSA_EState9',\n",
       "       'fr_COO', 'fr_COO2', 'EC1', 'EC2', 'EC3', 'EC4', 'EC5', 'EC6'],\n",
       "      dtype='object')"
      ]
     },
     "execution_count": 7,
     "metadata": {},
     "output_type": "execute_result"
    }
   ],
   "source": [
    "train_data.columns"
   ]
  },
  {
   "cell_type": "markdown",
   "id": "7c40f67e",
   "metadata": {
    "papermill": {
     "duration": 0.00989,
     "end_time": "2023-06-30T06:27:31.979475",
     "exception": false,
     "start_time": "2023-06-30T06:27:31.969585",
     "status": "completed"
    },
    "tags": []
   },
   "source": [
    "finding the number of similar test_data columns"
   ]
  },
  {
   "cell_type": "code",
   "execution_count": 8,
   "id": "3b546470",
   "metadata": {
    "execution": {
     "iopub.execute_input": "2023-06-30T06:27:32.003751Z",
     "iopub.status.busy": "2023-06-30T06:27:32.003228Z",
     "iopub.status.idle": "2023-06-30T06:27:32.011500Z",
     "shell.execute_reply": "2023-06-30T06:27:32.010257Z"
    },
    "papermill": {
     "duration": 0.023832,
     "end_time": "2023-06-30T06:27:32.014148",
     "exception": false,
     "start_time": "2023-06-30T06:27:31.990316",
     "status": "completed"
    },
    "tags": []
   },
   "outputs": [
    {
     "data": {
      "text/plain": [
       "Index(['id', 'BertzCT', 'Chi1', 'Chi1n', 'Chi1v', 'Chi2n', 'Chi2v', 'Chi3v',\n",
       "       'Chi4n', 'EState_VSA1', 'EState_VSA2', 'ExactMolWt', 'FpDensityMorgan1',\n",
       "       'FpDensityMorgan2', 'FpDensityMorgan3', 'HallKierAlpha',\n",
       "       'HeavyAtomMolWt', 'Kappa3', 'MaxAbsEStateIndex', 'MinEStateIndex',\n",
       "       'NumHeteroatoms', 'PEOE_VSA10', 'PEOE_VSA14', 'PEOE_VSA6', 'PEOE_VSA7',\n",
       "       'PEOE_VSA8', 'SMR_VSA10', 'SMR_VSA5', 'SlogP_VSA3', 'VSA_EState9',\n",
       "       'fr_COO', 'fr_COO2'],\n",
       "      dtype='object')"
      ]
     },
     "execution_count": 8,
     "metadata": {},
     "output_type": "execute_result"
    }
   ],
   "source": [
    "test_data.columns"
   ]
  },
  {
   "cell_type": "markdown",
   "id": "e976591c",
   "metadata": {
    "papermill": {
     "duration": 0.010937,
     "end_time": "2023-06-30T06:27:32.035723",
     "exception": false,
     "start_time": "2023-06-30T06:27:32.024786",
     "status": "completed"
    },
    "tags": []
   },
   "source": [
    "finding the number of unique values of the target columns to understand how to classify"
   ]
  },
  {
   "cell_type": "code",
   "execution_count": 9,
   "id": "67b2d9a1",
   "metadata": {
    "execution": {
     "iopub.execute_input": "2023-06-30T06:27:32.060126Z",
     "iopub.status.busy": "2023-06-30T06:27:32.059336Z",
     "iopub.status.idle": "2023-06-30T06:27:32.072561Z",
     "shell.execute_reply": "2023-06-30T06:27:32.071215Z"
    },
    "papermill": {
     "duration": 0.028655,
     "end_time": "2023-06-30T06:27:32.075383",
     "exception": false,
     "start_time": "2023-06-30T06:27:32.046728",
     "status": "completed"
    },
    "tags": []
   },
   "outputs": [
    {
     "data": {
      "text/plain": [
       "array([1, 0])"
      ]
     },
     "execution_count": 9,
     "metadata": {},
     "output_type": "execute_result"
    }
   ],
   "source": [
    "train_data['EC2'].unique()"
   ]
  },
  {
   "cell_type": "markdown",
   "id": "60f14412",
   "metadata": {
    "papermill": {
     "duration": 0.010762,
     "end_time": "2023-06-30T06:27:32.097836",
     "exception": false,
     "start_time": "2023-06-30T06:27:32.087074",
     "status": "completed"
    },
    "tags": []
   },
   "source": [
    "therefore the values of EC1 and EC2 are unique"
   ]
  },
  {
   "cell_type": "markdown",
   "id": "7504ebde",
   "metadata": {
    "papermill": {
     "duration": 0.010502,
     "end_time": "2023-06-30T06:27:32.119919",
     "exception": false,
     "start_time": "2023-06-30T06:27:32.109417",
     "status": "completed"
    },
    "tags": []
   },
   "source": [
    "storing the training and testing data as needed"
   ]
  },
  {
   "cell_type": "code",
   "execution_count": 10,
   "id": "eaac3d06",
   "metadata": {
    "execution": {
     "iopub.execute_input": "2023-06-30T06:27:32.143884Z",
     "iopub.status.busy": "2023-06-30T06:27:32.143106Z",
     "iopub.status.idle": "2023-06-30T06:27:32.156174Z",
     "shell.execute_reply": "2023-06-30T06:27:32.154911Z"
    },
    "papermill": {
     "duration": 0.028805,
     "end_time": "2023-06-30T06:27:32.159322",
     "exception": false,
     "start_time": "2023-06-30T06:27:32.130517",
     "status": "completed"
    },
    "tags": []
   },
   "outputs": [],
   "source": [
    "# Extract column names for test_1 dataset\n",
    "test_columns = test_data.columns[1:]\n",
    "\n",
    "# Create test_1 dataset from test_data\n",
    "test_1 = test_data[test_columns]\n",
    "\n",
    "# Extract column names for train_1 dataset\n",
    "train_columns = [column for column in train_data.columns if column in test_columns]\n",
    "\n",
    "# Create train_1 dataset from train_data\n",
    "train_1 = train_data[train_columns]"
   ]
  },
  {
   "cell_type": "code",
   "execution_count": 11,
   "id": "c7238844",
   "metadata": {
    "execution": {
     "iopub.execute_input": "2023-06-30T06:27:32.183745Z",
     "iopub.status.busy": "2023-06-30T06:27:32.183247Z",
     "iopub.status.idle": "2023-06-30T06:27:32.194292Z",
     "shell.execute_reply": "2023-06-30T06:27:32.192869Z"
    },
    "papermill": {
     "duration": 0.0268,
     "end_time": "2023-06-30T06:27:32.197104",
     "exception": false,
     "start_time": "2023-06-30T06:27:32.170304",
     "status": "completed"
    },
    "tags": []
   },
   "outputs": [
    {
     "data": {
      "text/plain": [
       "0"
      ]
     },
     "execution_count": 11,
     "metadata": {},
     "output_type": "execute_result"
    }
   ],
   "source": [
    "train_1.isnull().sum().sum()"
   ]
  },
  {
   "cell_type": "markdown",
   "id": "80472f8d",
   "metadata": {
    "papermill": {
     "duration": 0.011128,
     "end_time": "2023-06-30T06:27:32.219280",
     "exception": false,
     "start_time": "2023-06-30T06:27:32.208152",
     "status": "completed"
    },
    "tags": []
   },
   "source": [
    "basic rf modelling to kick it off"
   ]
  },
  {
   "cell_type": "code",
   "execution_count": 12,
   "id": "2679d624",
   "metadata": {
    "execution": {
     "iopub.execute_input": "2023-06-30T06:27:32.243788Z",
     "iopub.status.busy": "2023-06-30T06:27:32.242507Z",
     "iopub.status.idle": "2023-06-30T06:27:32.249010Z",
     "shell.execute_reply": "2023-06-30T06:27:32.247832Z"
    },
    "papermill": {
     "duration": 0.021737,
     "end_time": "2023-06-30T06:27:32.251833",
     "exception": false,
     "start_time": "2023-06-30T06:27:32.230096",
     "status": "completed"
    },
    "tags": []
   },
   "outputs": [],
   "source": [
    "y_train_1=train_data['EC1']\n",
    "y_train_2=train_data['EC2']"
   ]
  },
  {
   "cell_type": "markdown",
   "id": "b1f295fd",
   "metadata": {
    "papermill": {
     "duration": 0.011183,
     "end_time": "2023-06-30T06:27:32.274147",
     "exception": false,
     "start_time": "2023-06-30T06:27:32.262964",
     "status": "completed"
    },
    "tags": []
   },
   "source": [
    "fitting and predicting the first category column"
   ]
  },
  {
   "cell_type": "code",
   "execution_count": 13,
   "id": "0377b442",
   "metadata": {
    "execution": {
     "iopub.execute_input": "2023-06-30T06:27:32.299654Z",
     "iopub.status.busy": "2023-06-30T06:27:32.299163Z",
     "iopub.status.idle": "2023-06-30T06:27:40.555139Z",
     "shell.execute_reply": "2023-06-30T06:27:40.554190Z"
    },
    "papermill": {
     "duration": 8.272094,
     "end_time": "2023-06-30T06:27:40.557893",
     "exception": false,
     "start_time": "2023-06-30T06:27:32.285799",
     "status": "completed"
    },
    "tags": []
   },
   "outputs": [],
   "source": [
    "from sklearn.ensemble import RandomForestClassifier\n",
    "\n",
    "# Create an object of RandomForestClassifier\n",
    "model1= RandomForestClassifier()\n",
    "\n",
    "model1.fit(train_1,y_train_1)\n",
    "y_pred_1=model1.predict(test_1)"
   ]
  },
  {
   "cell_type": "code",
   "execution_count": 14,
   "id": "1ef37308",
   "metadata": {
    "execution": {
     "iopub.execute_input": "2023-06-30T06:27:40.580480Z",
     "iopub.status.busy": "2023-06-30T06:27:40.580056Z",
     "iopub.status.idle": "2023-06-30T06:27:40.586697Z",
     "shell.execute_reply": "2023-06-30T06:27:40.585879Z"
    },
    "papermill": {
     "duration": 0.020599,
     "end_time": "2023-06-30T06:27:40.589000",
     "exception": false,
     "start_time": "2023-06-30T06:27:40.568401",
     "status": "completed"
    },
    "tags": []
   },
   "outputs": [
    {
     "data": {
      "text/plain": [
       "True"
      ]
     },
     "execution_count": 14,
     "metadata": {},
     "output_type": "execute_result"
    }
   ],
   "source": [
    "test_1.shape[0]==len(y_pred_1)"
   ]
  },
  {
   "cell_type": "code",
   "execution_count": 15,
   "id": "96b69c7b",
   "metadata": {
    "execution": {
     "iopub.execute_input": "2023-06-30T06:27:40.611698Z",
     "iopub.status.busy": "2023-06-30T06:27:40.611271Z",
     "iopub.status.idle": "2023-06-30T06:27:47.675228Z",
     "shell.execute_reply": "2023-06-30T06:27:47.674202Z"
    },
    "papermill": {
     "duration": 7.078533,
     "end_time": "2023-06-30T06:27:47.677981",
     "exception": false,
     "start_time": "2023-06-30T06:27:40.599448",
     "status": "completed"
    },
    "tags": []
   },
   "outputs": [],
   "source": [
    "model2=RandomForestClassifier()\n",
    "model2.fit(train_1,y_train_2)\n",
    "y_pred_2=model2.predict(test_1)"
   ]
  },
  {
   "cell_type": "code",
   "execution_count": 16,
   "id": "935847fe",
   "metadata": {
    "execution": {
     "iopub.execute_input": "2023-06-30T06:27:47.701473Z",
     "iopub.status.busy": "2023-06-30T06:27:47.700849Z",
     "iopub.status.idle": "2023-06-30T06:27:47.707806Z",
     "shell.execute_reply": "2023-06-30T06:27:47.706595Z"
    },
    "papermill": {
     "duration": 0.021736,
     "end_time": "2023-06-30T06:27:47.710360",
     "exception": false,
     "start_time": "2023-06-30T06:27:47.688624",
     "status": "completed"
    },
    "tags": []
   },
   "outputs": [
    {
     "data": {
      "text/plain": [
       "True"
      ]
     },
     "execution_count": 16,
     "metadata": {},
     "output_type": "execute_result"
    }
   ],
   "source": [
    "len(y_pred_2)==test_1.shape[0]"
   ]
  },
  {
   "cell_type": "markdown",
   "id": "90e03e12",
   "metadata": {
    "papermill": {
     "duration": 0.010167,
     "end_time": "2023-06-30T06:27:47.731452",
     "exception": false,
     "start_time": "2023-06-30T06:27:47.721285",
     "status": "completed"
    },
    "tags": []
   },
   "source": [
    "creating a submission file"
   ]
  },
  {
   "cell_type": "markdown",
   "id": "7834709a",
   "metadata": {
    "papermill": {
     "duration": 0.010061,
     "end_time": "2023-06-30T06:27:47.752078",
     "exception": false,
     "start_time": "2023-06-30T06:27:47.742017",
     "status": "completed"
    },
    "tags": []
   },
   "source": [
    "first creating a pandas dataframe as needed"
   ]
  },
  {
   "cell_type": "code",
   "execution_count": 17,
   "id": "4cc29cd6",
   "metadata": {
    "execution": {
     "iopub.execute_input": "2023-06-30T06:27:47.775391Z",
     "iopub.status.busy": "2023-06-30T06:27:47.774420Z",
     "iopub.status.idle": "2023-06-30T06:27:47.783745Z",
     "shell.execute_reply": "2023-06-30T06:27:47.782593Z"
    },
    "papermill": {
     "duration": 0.023561,
     "end_time": "2023-06-30T06:27:47.786045",
     "exception": false,
     "start_time": "2023-06-30T06:27:47.762484",
     "status": "completed"
    },
    "tags": []
   },
   "outputs": [],
   "source": [
    "# Create a DataFrame with 'id' column from test_1\n",
    "df = pd.DataFrame({'id': test_data['id']})\n",
    "\n",
    "# Add 'EC1' column containing the array y_train_1\n",
    "df['EC1'] = pd.Series(y_train_1)\n",
    "\n",
    "# Add 'EC2' column containing the array y_train_2\n",
    "df['EC2'] = pd.Series(y_train_2)"
   ]
  },
  {
   "cell_type": "code",
   "execution_count": 18,
   "id": "107dca76",
   "metadata": {
    "execution": {
     "iopub.execute_input": "2023-06-30T06:27:47.810472Z",
     "iopub.status.busy": "2023-06-30T06:27:47.810060Z",
     "iopub.status.idle": "2023-06-30T06:27:47.816864Z",
     "shell.execute_reply": "2023-06-30T06:27:47.815881Z"
    },
    "papermill": {
     "duration": 0.021218,
     "end_time": "2023-06-30T06:27:47.819202",
     "exception": false,
     "start_time": "2023-06-30T06:27:47.797984",
     "status": "completed"
    },
    "tags": []
   },
   "outputs": [
    {
     "data": {
      "text/plain": [
       "(9893, 3)"
      ]
     },
     "execution_count": 18,
     "metadata": {},
     "output_type": "execute_result"
    }
   ],
   "source": [
    "df.shape"
   ]
  },
  {
   "cell_type": "code",
   "execution_count": 19,
   "id": "0954238c",
   "metadata": {
    "execution": {
     "iopub.execute_input": "2023-06-30T06:27:47.842332Z",
     "iopub.status.busy": "2023-06-30T06:27:47.841925Z",
     "iopub.status.idle": "2023-06-30T06:27:47.848851Z",
     "shell.execute_reply": "2023-06-30T06:27:47.847698Z"
    },
    "papermill": {
     "duration": 0.021269,
     "end_time": "2023-06-30T06:27:47.851100",
     "exception": false,
     "start_time": "2023-06-30T06:27:47.829831",
     "status": "completed"
    },
    "tags": []
   },
   "outputs": [
    {
     "data": {
      "text/plain": [
       "Index(['id', 'EC1', 'EC2'], dtype='object')"
      ]
     },
     "execution_count": 19,
     "metadata": {},
     "output_type": "execute_result"
    }
   ],
   "source": [
    "df.columns"
   ]
  },
  {
   "cell_type": "code",
   "execution_count": 20,
   "id": "5966bdd3",
   "metadata": {
    "execution": {
     "iopub.execute_input": "2023-06-30T06:27:47.874358Z",
     "iopub.status.busy": "2023-06-30T06:27:47.873983Z",
     "iopub.status.idle": "2023-06-30T06:27:47.881073Z",
     "shell.execute_reply": "2023-06-30T06:27:47.879855Z"
    },
    "papermill": {
     "duration": 0.021728,
     "end_time": "2023-06-30T06:27:47.883405",
     "exception": false,
     "start_time": "2023-06-30T06:27:47.861677",
     "status": "completed"
    },
    "tags": []
   },
   "outputs": [
    {
     "data": {
      "text/plain": [
       "Index(['id', 'EC1', 'EC2'], dtype='object')"
      ]
     },
     "execution_count": 20,
     "metadata": {},
     "output_type": "execute_result"
    }
   ],
   "source": [
    "sample.columns"
   ]
  },
  {
   "cell_type": "markdown",
   "id": "8a956bfd",
   "metadata": {
    "papermill": {
     "duration": 0.010537,
     "end_time": "2023-06-30T06:27:47.904730",
     "exception": false,
     "start_time": "2023-06-30T06:27:47.894193",
     "status": "completed"
    },
    "tags": []
   },
   "source": [
    "submitting the df dataset as needed"
   ]
  },
  {
   "cell_type": "code",
   "execution_count": 21,
   "id": "02c23d09",
   "metadata": {
    "execution": {
     "iopub.execute_input": "2023-06-30T06:27:47.928095Z",
     "iopub.status.busy": "2023-06-30T06:27:47.927679Z",
     "iopub.status.idle": "2023-06-30T06:27:47.962298Z",
     "shell.execute_reply": "2023-06-30T06:27:47.961055Z"
    },
    "papermill": {
     "duration": 0.04965,
     "end_time": "2023-06-30T06:27:47.965183",
     "exception": false,
     "start_time": "2023-06-30T06:27:47.915533",
     "status": "completed"
    },
    "tags": []
   },
   "outputs": [],
   "source": [
    "df.to_csv('submission.csv',index=False)"
   ]
  }
 ],
 "metadata": {
  "kernelspec": {
   "display_name": "Python 3",
   "language": "python",
   "name": "python3"
  },
  "language_info": {
   "codemirror_mode": {
    "name": "ipython",
    "version": 3
   },
   "file_extension": ".py",
   "mimetype": "text/x-python",
   "name": "python",
   "nbconvert_exporter": "python",
   "pygments_lexer": "ipython3",
   "version": "3.10.10"
  },
  "papermill": {
   "default_parameters": {},
   "duration": 31.350152,
   "end_time": "2023-06-30T06:27:48.998672",
   "environment_variables": {},
   "exception": null,
   "input_path": "__notebook__.ipynb",
   "output_path": "__notebook__.ipynb",
   "parameters": {},
   "start_time": "2023-06-30T06:27:17.648520",
   "version": "2.4.0"
  }
 },
 "nbformat": 4,
 "nbformat_minor": 5
}
