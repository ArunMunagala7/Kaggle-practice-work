{
 "cells": [
  {
   "cell_type": "code",
   "execution_count": 1,
   "id": "09ad61b9",
   "metadata": {
    "_cell_guid": "b1076dfc-b9ad-4769-8c92-a6c4dae69d19",
    "_uuid": "8f2839f25d086af736a60e9eeb907d3b93b6e0e5",
    "execution": {
     "iopub.execute_input": "2023-06-30T08:40:27.497261Z",
     "iopub.status.busy": "2023-06-30T08:40:27.496003Z",
     "iopub.status.idle": "2023-06-30T08:40:27.516937Z",
     "shell.execute_reply": "2023-06-30T08:40:27.516166Z"
    },
    "papermill": {
     "duration": 0.039336,
     "end_time": "2023-06-30T08:40:27.519506",
     "exception": false,
     "start_time": "2023-06-30T08:40:27.480170",
     "status": "completed"
    },
    "tags": []
   },
   "outputs": [
    {
     "name": "stdout",
     "output_type": "stream",
     "text": [
      "/kaggle/input/playground-series-s3e18/sample_submission.csv\n",
      "/kaggle/input/playground-series-s3e18/train.csv\n",
      "/kaggle/input/playground-series-s3e18/test.csv\n",
      "/kaggle/input/ec-mixed-class/mixed_fcfp.csv\n",
      "/kaggle/input/ec-mixed-class/mixed_desc.csv\n",
      "/kaggle/input/ec-mixed-class/mixed_ecfp.csv\n"
     ]
    }
   ],
   "source": [
    "# This Python 3 environment comes with many helpful analytics libraries installed\n",
    "# It is defined by the kaggle/python Docker image: https://github.com/kaggle/docker-python\n",
    "# For example, here's several helpful packages to load\n",
    "\n",
    "import numpy as np # linear algebra\n",
    "import pandas as pd # data processing, CSV file I/O (e.g. pd.read_csv)\n",
    "\n",
    "# Input data files are available in the read-only \"../input/\" directory\n",
    "# For example, running this (by clicking run or pressing Shift+Enter) will list all files under the input directory\n",
    "\n",
    "import os\n",
    "for dirname, _, filenames in os.walk('/kaggle/input'):\n",
    "    for filename in filenames:\n",
    "        print(os.path.join(dirname, filename))\n",
    "\n",
    "# You can write up to 20GB to the current directory (/kaggle/working/) that gets preserved as output when you create a version using \"Save & Run All\" \n",
    "# You can also write temporary files to /kaggle/temp/, but they won't be saved outside of the current session"
   ]
  },
  {
   "cell_type": "code",
   "execution_count": 2,
   "id": "34d5b22a",
   "metadata": {
    "execution": {
     "iopub.execute_input": "2023-06-30T08:40:27.544729Z",
     "iopub.status.busy": "2023-06-30T08:40:27.544308Z",
     "iopub.status.idle": "2023-06-30T08:40:27.839094Z",
     "shell.execute_reply": "2023-06-30T08:40:27.837919Z"
    },
    "papermill": {
     "duration": 0.310907,
     "end_time": "2023-06-30T08:40:27.842072",
     "exception": false,
     "start_time": "2023-06-30T08:40:27.531165",
     "status": "completed"
    },
    "tags": []
   },
   "outputs": [],
   "source": [
    "train_data=pd.read_csv('/kaggle/input/playground-series-s3e18/train.csv')\n",
    "test_data=pd.read_csv('/kaggle/input/playground-series-s3e18/test.csv')\n",
    "sample=pd.read_csv('/kaggle/input/playground-series-s3e18/sample_submission.csv')"
   ]
  },
  {
   "cell_type": "code",
   "execution_count": 3,
   "id": "59d4f89d",
   "metadata": {
    "execution": {
     "iopub.execute_input": "2023-06-30T08:40:27.866048Z",
     "iopub.status.busy": "2023-06-30T08:40:27.865629Z",
     "iopub.status.idle": "2023-06-30T08:40:27.908650Z",
     "shell.execute_reply": "2023-06-30T08:40:27.907627Z"
    },
    "papermill": {
     "duration": 0.05802,
     "end_time": "2023-06-30T08:40:27.911407",
     "exception": false,
     "start_time": "2023-06-30T08:40:27.853387",
     "status": "completed"
    },
    "tags": []
   },
   "outputs": [
    {
     "data": {
      "text/html": [
       "<div>\n",
       "<style scoped>\n",
       "    .dataframe tbody tr th:only-of-type {\n",
       "        vertical-align: middle;\n",
       "    }\n",
       "\n",
       "    .dataframe tbody tr th {\n",
       "        vertical-align: top;\n",
       "    }\n",
       "\n",
       "    .dataframe thead th {\n",
       "        text-align: right;\n",
       "    }\n",
       "</style>\n",
       "<table border=\"1\" class=\"dataframe\">\n",
       "  <thead>\n",
       "    <tr style=\"text-align: right;\">\n",
       "      <th></th>\n",
       "      <th>id</th>\n",
       "      <th>BertzCT</th>\n",
       "      <th>Chi1</th>\n",
       "      <th>Chi1n</th>\n",
       "      <th>Chi1v</th>\n",
       "      <th>Chi2n</th>\n",
       "      <th>Chi2v</th>\n",
       "      <th>Chi3v</th>\n",
       "      <th>Chi4n</th>\n",
       "      <th>EState_VSA1</th>\n",
       "      <th>...</th>\n",
       "      <th>SlogP_VSA3</th>\n",
       "      <th>VSA_EState9</th>\n",
       "      <th>fr_COO</th>\n",
       "      <th>fr_COO2</th>\n",
       "      <th>EC1</th>\n",
       "      <th>EC2</th>\n",
       "      <th>EC3</th>\n",
       "      <th>EC4</th>\n",
       "      <th>EC5</th>\n",
       "      <th>EC6</th>\n",
       "    </tr>\n",
       "  </thead>\n",
       "  <tbody>\n",
       "    <tr>\n",
       "      <th>0</th>\n",
       "      <td>0</td>\n",
       "      <td>323.390782</td>\n",
       "      <td>9.879918</td>\n",
       "      <td>5.875576</td>\n",
       "      <td>5.875576</td>\n",
       "      <td>4.304757</td>\n",
       "      <td>4.304757</td>\n",
       "      <td>2.754513</td>\n",
       "      <td>1.749203</td>\n",
       "      <td>0.000000</td>\n",
       "      <td>...</td>\n",
       "      <td>4.794537</td>\n",
       "      <td>35.527357</td>\n",
       "      <td>0</td>\n",
       "      <td>0</td>\n",
       "      <td>1</td>\n",
       "      <td>1</td>\n",
       "      <td>0</td>\n",
       "      <td>0</td>\n",
       "      <td>0</td>\n",
       "      <td>0</td>\n",
       "    </tr>\n",
       "    <tr>\n",
       "      <th>1</th>\n",
       "      <td>1</td>\n",
       "      <td>273.723798</td>\n",
       "      <td>7.259037</td>\n",
       "      <td>4.441467</td>\n",
       "      <td>5.834958</td>\n",
       "      <td>3.285046</td>\n",
       "      <td>4.485235</td>\n",
       "      <td>2.201375</td>\n",
       "      <td>1.289775</td>\n",
       "      <td>45.135471</td>\n",
       "      <td>...</td>\n",
       "      <td>13.825658</td>\n",
       "      <td>44.707310</td>\n",
       "      <td>0</td>\n",
       "      <td>0</td>\n",
       "      <td>0</td>\n",
       "      <td>1</td>\n",
       "      <td>1</td>\n",
       "      <td>0</td>\n",
       "      <td>0</td>\n",
       "      <td>0</td>\n",
       "    </tr>\n",
       "    <tr>\n",
       "      <th>2</th>\n",
       "      <td>2</td>\n",
       "      <td>521.643822</td>\n",
       "      <td>10.911303</td>\n",
       "      <td>8.527859</td>\n",
       "      <td>11.050864</td>\n",
       "      <td>6.665291</td>\n",
       "      <td>9.519706</td>\n",
       "      <td>5.824822</td>\n",
       "      <td>1.770579</td>\n",
       "      <td>15.645394</td>\n",
       "      <td>...</td>\n",
       "      <td>17.964475</td>\n",
       "      <td>45.660120</td>\n",
       "      <td>0</td>\n",
       "      <td>0</td>\n",
       "      <td>1</td>\n",
       "      <td>1</td>\n",
       "      <td>0</td>\n",
       "      <td>0</td>\n",
       "      <td>1</td>\n",
       "      <td>0</td>\n",
       "    </tr>\n",
       "    <tr>\n",
       "      <th>3</th>\n",
       "      <td>3</td>\n",
       "      <td>567.431166</td>\n",
       "      <td>12.453343</td>\n",
       "      <td>7.089119</td>\n",
       "      <td>12.833709</td>\n",
       "      <td>6.478023</td>\n",
       "      <td>10.978151</td>\n",
       "      <td>7.914542</td>\n",
       "      <td>3.067181</td>\n",
       "      <td>95.639554</td>\n",
       "      <td>...</td>\n",
       "      <td>31.961948</td>\n",
       "      <td>87.509997</td>\n",
       "      <td>0</td>\n",
       "      <td>0</td>\n",
       "      <td>1</td>\n",
       "      <td>1</td>\n",
       "      <td>0</td>\n",
       "      <td>0</td>\n",
       "      <td>0</td>\n",
       "      <td>0</td>\n",
       "    </tr>\n",
       "    <tr>\n",
       "      <th>4</th>\n",
       "      <td>4</td>\n",
       "      <td>112.770735</td>\n",
       "      <td>4.414719</td>\n",
       "      <td>2.866236</td>\n",
       "      <td>2.866236</td>\n",
       "      <td>1.875634</td>\n",
       "      <td>1.875634</td>\n",
       "      <td>1.036450</td>\n",
       "      <td>0.727664</td>\n",
       "      <td>17.980451</td>\n",
       "      <td>...</td>\n",
       "      <td>9.589074</td>\n",
       "      <td>33.333333</td>\n",
       "      <td>2</td>\n",
       "      <td>2</td>\n",
       "      <td>1</td>\n",
       "      <td>0</td>\n",
       "      <td>1</td>\n",
       "      <td>1</td>\n",
       "      <td>1</td>\n",
       "      <td>0</td>\n",
       "    </tr>\n",
       "  </tbody>\n",
       "</table>\n",
       "<p>5 rows × 38 columns</p>\n",
       "</div>"
      ],
      "text/plain": [
       "   id     BertzCT       Chi1     Chi1n      Chi1v     Chi2n      Chi2v  \\\n",
       "0   0  323.390782   9.879918  5.875576   5.875576  4.304757   4.304757   \n",
       "1   1  273.723798   7.259037  4.441467   5.834958  3.285046   4.485235   \n",
       "2   2  521.643822  10.911303  8.527859  11.050864  6.665291   9.519706   \n",
       "3   3  567.431166  12.453343  7.089119  12.833709  6.478023  10.978151   \n",
       "4   4  112.770735   4.414719  2.866236   2.866236  1.875634   1.875634   \n",
       "\n",
       "      Chi3v     Chi4n  EState_VSA1  ...  SlogP_VSA3  VSA_EState9  fr_COO  \\\n",
       "0  2.754513  1.749203     0.000000  ...    4.794537    35.527357       0   \n",
       "1  2.201375  1.289775    45.135471  ...   13.825658    44.707310       0   \n",
       "2  5.824822  1.770579    15.645394  ...   17.964475    45.660120       0   \n",
       "3  7.914542  3.067181    95.639554  ...   31.961948    87.509997       0   \n",
       "4  1.036450  0.727664    17.980451  ...    9.589074    33.333333       2   \n",
       "\n",
       "   fr_COO2  EC1  EC2  EC3  EC4  EC5  EC6  \n",
       "0        0    1    1    0    0    0    0  \n",
       "1        0    0    1    1    0    0    0  \n",
       "2        0    1    1    0    0    1    0  \n",
       "3        0    1    1    0    0    0    0  \n",
       "4        2    1    0    1    1    1    0  \n",
       "\n",
       "[5 rows x 38 columns]"
      ]
     },
     "execution_count": 3,
     "metadata": {},
     "output_type": "execute_result"
    }
   ],
   "source": [
    "train_data.head()"
   ]
  },
  {
   "cell_type": "code",
   "execution_count": 4,
   "id": "d242270b",
   "metadata": {
    "execution": {
     "iopub.execute_input": "2023-06-30T08:40:27.936686Z",
     "iopub.status.busy": "2023-06-30T08:40:27.935752Z",
     "iopub.status.idle": "2023-06-30T08:40:27.947739Z",
     "shell.execute_reply": "2023-06-30T08:40:27.946965Z"
    },
    "papermill": {
     "duration": 0.027047,
     "end_time": "2023-06-30T08:40:27.950021",
     "exception": false,
     "start_time": "2023-06-30T08:40:27.922974",
     "status": "completed"
    },
    "tags": []
   },
   "outputs": [
    {
     "data": {
      "text/plain": [
       "0"
      ]
     },
     "execution_count": 4,
     "metadata": {},
     "output_type": "execute_result"
    }
   ],
   "source": [
    "train_data.isna().sum().sum()"
   ]
  },
  {
   "cell_type": "code",
   "execution_count": 5,
   "id": "19ad614d",
   "metadata": {
    "execution": {
     "iopub.execute_input": "2023-06-30T08:40:27.975691Z",
     "iopub.status.busy": "2023-06-30T08:40:27.975250Z",
     "iopub.status.idle": "2023-06-30T08:40:27.981599Z",
     "shell.execute_reply": "2023-06-30T08:40:27.980560Z"
    },
    "papermill": {
     "duration": 0.022019,
     "end_time": "2023-06-30T08:40:27.983879",
     "exception": false,
     "start_time": "2023-06-30T08:40:27.961860",
     "status": "completed"
    },
    "tags": []
   },
   "outputs": [
    {
     "data": {
      "text/plain": [
       "(9893, 32)"
      ]
     },
     "execution_count": 5,
     "metadata": {},
     "output_type": "execute_result"
    }
   ],
   "source": [
    "test_data.shape"
   ]
  },
  {
   "cell_type": "code",
   "execution_count": 6,
   "id": "ee96ce4f",
   "metadata": {
    "execution": {
     "iopub.execute_input": "2023-06-30T08:40:28.009672Z",
     "iopub.status.busy": "2023-06-30T08:40:28.009040Z",
     "iopub.status.idle": "2023-06-30T08:40:28.016312Z",
     "shell.execute_reply": "2023-06-30T08:40:28.014942Z"
    },
    "papermill": {
     "duration": 0.022536,
     "end_time": "2023-06-30T08:40:28.018470",
     "exception": false,
     "start_time": "2023-06-30T08:40:27.995934",
     "status": "completed"
    },
    "tags": []
   },
   "outputs": [
    {
     "name": "stdout",
     "output_type": "stream",
     "text": [
      "Uncommon columns between train_data and test_data:\n",
      "EC6\n",
      "EC4\n",
      "EC3\n",
      "EC2\n",
      "EC1\n",
      "EC5\n"
     ]
    }
   ],
   "source": [
    "import pandas as pd\n",
    "\n",
    "# Get the column names from each dataset\n",
    "train_columns = set(train_data.columns)\n",
    "test_columns = set(test_data.columns)\n",
    "\n",
    "# Find the uncommon columns\n",
    "uncommon_columns = train_columns.symmetric_difference(test_columns)\n",
    "\n",
    "# Print the uncommon columns\n",
    "print(\"Uncommon columns between train_data and test_data:\")\n",
    "for column in uncommon_columns:\n",
    "    print(column)"
   ]
  },
  {
   "cell_type": "code",
   "execution_count": 7,
   "id": "eb20308e",
   "metadata": {
    "execution": {
     "iopub.execute_input": "2023-06-30T08:40:28.044554Z",
     "iopub.status.busy": "2023-06-30T08:40:28.043316Z",
     "iopub.status.idle": "2023-06-30T08:40:28.051535Z",
     "shell.execute_reply": "2023-06-30T08:40:28.050293Z"
    },
    "papermill": {
     "duration": 0.02383,
     "end_time": "2023-06-30T08:40:28.054143",
     "exception": false,
     "start_time": "2023-06-30T08:40:28.030313",
     "status": "completed"
    },
    "tags": []
   },
   "outputs": [
    {
     "data": {
      "text/plain": [
       "Index(['id', 'BertzCT', 'Chi1', 'Chi1n', 'Chi1v', 'Chi2n', 'Chi2v', 'Chi3v',\n",
       "       'Chi4n', 'EState_VSA1', 'EState_VSA2', 'ExactMolWt', 'FpDensityMorgan1',\n",
       "       'FpDensityMorgan2', 'FpDensityMorgan3', 'HallKierAlpha',\n",
       "       'HeavyAtomMolWt', 'Kappa3', 'MaxAbsEStateIndex', 'MinEStateIndex',\n",
       "       'NumHeteroatoms', 'PEOE_VSA10', 'PEOE_VSA14', 'PEOE_VSA6', 'PEOE_VSA7',\n",
       "       'PEOE_VSA8', 'SMR_VSA10', 'SMR_VSA5', 'SlogP_VSA3', 'VSA_EState9',\n",
       "       'fr_COO', 'fr_COO2', 'EC1', 'EC2', 'EC3', 'EC4', 'EC5', 'EC6'],\n",
       "      dtype='object')"
      ]
     },
     "execution_count": 7,
     "metadata": {},
     "output_type": "execute_result"
    }
   ],
   "source": [
    "train_data.columns"
   ]
  },
  {
   "cell_type": "markdown",
   "id": "96a8fc12",
   "metadata": {
    "papermill": {
     "duration": 0.012202,
     "end_time": "2023-06-30T08:40:28.079264",
     "exception": false,
     "start_time": "2023-06-30T08:40:28.067062",
     "status": "completed"
    },
    "tags": []
   },
   "source": [
    "finding the number of similar test_data columns"
   ]
  },
  {
   "cell_type": "code",
   "execution_count": 8,
   "id": "a37671b4",
   "metadata": {
    "execution": {
     "iopub.execute_input": "2023-06-30T08:40:28.105075Z",
     "iopub.status.busy": "2023-06-30T08:40:28.104704Z",
     "iopub.status.idle": "2023-06-30T08:40:28.111597Z",
     "shell.execute_reply": "2023-06-30T08:40:28.110369Z"
    },
    "papermill": {
     "duration": 0.022597,
     "end_time": "2023-06-30T08:40:28.113874",
     "exception": false,
     "start_time": "2023-06-30T08:40:28.091277",
     "status": "completed"
    },
    "tags": []
   },
   "outputs": [
    {
     "data": {
      "text/plain": [
       "Index(['id', 'BertzCT', 'Chi1', 'Chi1n', 'Chi1v', 'Chi2n', 'Chi2v', 'Chi3v',\n",
       "       'Chi4n', 'EState_VSA1', 'EState_VSA2', 'ExactMolWt', 'FpDensityMorgan1',\n",
       "       'FpDensityMorgan2', 'FpDensityMorgan3', 'HallKierAlpha',\n",
       "       'HeavyAtomMolWt', 'Kappa3', 'MaxAbsEStateIndex', 'MinEStateIndex',\n",
       "       'NumHeteroatoms', 'PEOE_VSA10', 'PEOE_VSA14', 'PEOE_VSA6', 'PEOE_VSA7',\n",
       "       'PEOE_VSA8', 'SMR_VSA10', 'SMR_VSA5', 'SlogP_VSA3', 'VSA_EState9',\n",
       "       'fr_COO', 'fr_COO2'],\n",
       "      dtype='object')"
      ]
     },
     "execution_count": 8,
     "metadata": {},
     "output_type": "execute_result"
    }
   ],
   "source": [
    "test_data.columns"
   ]
  },
  {
   "cell_type": "markdown",
   "id": "88dc9053",
   "metadata": {
    "papermill": {
     "duration": 0.011622,
     "end_time": "2023-06-30T08:40:28.137747",
     "exception": false,
     "start_time": "2023-06-30T08:40:28.126125",
     "status": "completed"
    },
    "tags": []
   },
   "source": [
    "finding the number of unique values of the target columns to understand how to classify"
   ]
  },
  {
   "cell_type": "code",
   "execution_count": 9,
   "id": "a24e47a2",
   "metadata": {
    "execution": {
     "iopub.execute_input": "2023-06-30T08:40:28.163886Z",
     "iopub.status.busy": "2023-06-30T08:40:28.163462Z",
     "iopub.status.idle": "2023-06-30T08:40:28.173828Z",
     "shell.execute_reply": "2023-06-30T08:40:28.172941Z"
    },
    "papermill": {
     "duration": 0.026352,
     "end_time": "2023-06-30T08:40:28.176113",
     "exception": false,
     "start_time": "2023-06-30T08:40:28.149761",
     "status": "completed"
    },
    "tags": []
   },
   "outputs": [
    {
     "data": {
      "text/plain": [
       "array([1, 0])"
      ]
     },
     "execution_count": 9,
     "metadata": {},
     "output_type": "execute_result"
    }
   ],
   "source": [
    "train_data['EC2'].unique()"
   ]
  },
  {
   "cell_type": "markdown",
   "id": "634561a5",
   "metadata": {
    "papermill": {
     "duration": 0.012426,
     "end_time": "2023-06-30T08:40:28.200861",
     "exception": false,
     "start_time": "2023-06-30T08:40:28.188435",
     "status": "completed"
    },
    "tags": []
   },
   "source": [
    "therefore the values of EC1 and EC2 are unique"
   ]
  },
  {
   "cell_type": "markdown",
   "id": "949fef96",
   "metadata": {
    "papermill": {
     "duration": 0.01181,
     "end_time": "2023-06-30T08:40:28.225453",
     "exception": false,
     "start_time": "2023-06-30T08:40:28.213643",
     "status": "completed"
    },
    "tags": []
   },
   "source": [
    "storing the training and testing data as needed"
   ]
  },
  {
   "cell_type": "code",
   "execution_count": 10,
   "id": "7360b15d",
   "metadata": {
    "execution": {
     "iopub.execute_input": "2023-06-30T08:40:28.252895Z",
     "iopub.status.busy": "2023-06-30T08:40:28.251763Z",
     "iopub.status.idle": "2023-06-30T08:40:28.265177Z",
     "shell.execute_reply": "2023-06-30T08:40:28.264166Z"
    },
    "papermill": {
     "duration": 0.030058,
     "end_time": "2023-06-30T08:40:28.267764",
     "exception": false,
     "start_time": "2023-06-30T08:40:28.237706",
     "status": "completed"
    },
    "tags": []
   },
   "outputs": [],
   "source": [
    "# Extract column names for test_1 dataset\n",
    "test_columns = test_data.columns[1:]\n",
    "\n",
    "# Create test_1 dataset from test_data\n",
    "test_1 = test_data[test_columns]\n",
    "\n",
    "# Extract column names for train_1 dataset\n",
    "train_columns = [column for column in train_data.columns if column in test_columns]\n",
    "\n",
    "# Create train_1 dataset from train_data\n",
    "train_1 = train_data[train_columns]"
   ]
  },
  {
   "cell_type": "code",
   "execution_count": 11,
   "id": "6806980f",
   "metadata": {
    "execution": {
     "iopub.execute_input": "2023-06-30T08:40:28.294631Z",
     "iopub.status.busy": "2023-06-30T08:40:28.294007Z",
     "iopub.status.idle": "2023-06-30T08:40:28.301820Z",
     "shell.execute_reply": "2023-06-30T08:40:28.300817Z"
    },
    "papermill": {
     "duration": 0.024199,
     "end_time": "2023-06-30T08:40:28.304352",
     "exception": false,
     "start_time": "2023-06-30T08:40:28.280153",
     "status": "completed"
    },
    "tags": []
   },
   "outputs": [
    {
     "data": {
      "text/plain": [
       "0"
      ]
     },
     "execution_count": 11,
     "metadata": {},
     "output_type": "execute_result"
    }
   ],
   "source": [
    "train_1.isnull().sum().sum()"
   ]
  },
  {
   "cell_type": "markdown",
   "id": "19c45625",
   "metadata": {
    "papermill": {
     "duration": 0.011969,
     "end_time": "2023-06-30T08:40:28.328880",
     "exception": false,
     "start_time": "2023-06-30T08:40:28.316911",
     "status": "completed"
    },
    "tags": []
   },
   "source": [
    "basic rf modelling to kick it off"
   ]
  },
  {
   "cell_type": "code",
   "execution_count": 12,
   "id": "84838f07",
   "metadata": {
    "execution": {
     "iopub.execute_input": "2023-06-30T08:40:28.356137Z",
     "iopub.status.busy": "2023-06-30T08:40:28.355151Z",
     "iopub.status.idle": "2023-06-30T08:40:28.360562Z",
     "shell.execute_reply": "2023-06-30T08:40:28.359804Z"
    },
    "papermill": {
     "duration": 0.021675,
     "end_time": "2023-06-30T08:40:28.362877",
     "exception": false,
     "start_time": "2023-06-30T08:40:28.341202",
     "status": "completed"
    },
    "tags": []
   },
   "outputs": [],
   "source": [
    "y_train_1=train_data['EC1']\n",
    "y_train_2=train_data['EC2']"
   ]
  },
  {
   "cell_type": "markdown",
   "id": "57c579cf",
   "metadata": {
    "papermill": {
     "duration": 0.012612,
     "end_time": "2023-06-30T08:40:28.387873",
     "exception": false,
     "start_time": "2023-06-30T08:40:28.375261",
     "status": "completed"
    },
    "tags": []
   },
   "source": [
    "fitting and predicting the first category column"
   ]
  },
  {
   "cell_type": "code",
   "execution_count": 13,
   "id": "26b799bc",
   "metadata": {
    "execution": {
     "iopub.execute_input": "2023-06-30T08:40:28.414651Z",
     "iopub.status.busy": "2023-06-30T08:40:28.414024Z",
     "iopub.status.idle": "2023-06-30T08:40:36.391726Z",
     "shell.execute_reply": "2023-06-30T08:40:36.390432Z"
    },
    "papermill": {
     "duration": 7.994887,
     "end_time": "2023-06-30T08:40:36.395058",
     "exception": false,
     "start_time": "2023-06-30T08:40:28.400171",
     "status": "completed"
    },
    "tags": []
   },
   "outputs": [],
   "source": [
    "from sklearn.ensemble import RandomForestClassifier\n",
    "\n",
    "# Create an object of RandomForestClassifier\n",
    "model1= RandomForestClassifier()\n",
    "\n",
    "model1.fit(train_1,y_train_1)\n",
    "y_pred_1=model1.predict(test_1)"
   ]
  },
  {
   "cell_type": "markdown",
   "id": "5d910297",
   "metadata": {
    "papermill": {
     "duration": 0.011961,
     "end_time": "2023-06-30T08:40:36.419750",
     "exception": false,
     "start_time": "2023-06-30T08:40:36.407789",
     "status": "completed"
    },
    "tags": []
   },
   "source": [
    "doing the same but with grid search instead"
   ]
  },
  {
   "cell_type": "code",
   "execution_count": 14,
   "id": "3c6ad2b0",
   "metadata": {
    "execution": {
     "iopub.execute_input": "2023-06-30T08:40:36.446536Z",
     "iopub.status.busy": "2023-06-30T08:40:36.445876Z",
     "iopub.status.idle": "2023-06-30T08:40:36.451353Z",
     "shell.execute_reply": "2023-06-30T08:40:36.450508Z"
    },
    "papermill": {
     "duration": 0.021591,
     "end_time": "2023-06-30T08:40:36.453687",
     "exception": false,
     "start_time": "2023-06-30T08:40:36.432096",
     "status": "completed"
    },
    "tags": []
   },
   "outputs": [],
   "source": [
    "# from sklearn.ensemble import RandomForestClassifier\n",
    "# from sklearn.model_selection import GridSearchCV\n",
    "\n",
    "# # Create an object of RandomForestClassifier\n",
    "# rf_classifier = RandomForestClassifier()\n",
    "\n",
    "# # Define the parameter grid\n",
    "# param_grid = {\n",
    "#     'n_estimators': [50, 100, 200],\n",
    "#     'max_depth': [None, 5, 10],\n",
    "#     'min_samples_split': [2, 4, 8],\n",
    "#     'min_samples_leaf': [1, 2, 4]\n",
    "# }\n",
    "\n",
    "# # Create GridSearchCV object\n",
    "# grid_search = GridSearchCV(estimator=rf_classifier, param_grid=param_grid, cv=5)\n",
    "\n",
    "# # Fit the GridSearchCV object to the data\n",
    "# grid_search.fit(train_1, y_train_1)\n",
    "\n",
    "# # Get the best parameters and best score\n",
    "# best_params = grid_search.best_params_\n",
    "# best_score = grid_search.best_score_\n",
    "\n",
    "# print(\"Best parameters:\", best_params)\n",
    "# print(\"Best score:\", best_score)\n"
   ]
  },
  {
   "cell_type": "code",
   "execution_count": 15,
   "id": "9878738d",
   "metadata": {
    "execution": {
     "iopub.execute_input": "2023-06-30T08:40:36.480468Z",
     "iopub.status.busy": "2023-06-30T08:40:36.480091Z",
     "iopub.status.idle": "2023-06-30T08:40:40.303373Z",
     "shell.execute_reply": "2023-06-30T08:40:40.302379Z"
    },
    "papermill": {
     "duration": 3.839882,
     "end_time": "2023-06-30T08:40:40.306176",
     "exception": false,
     "start_time": "2023-06-30T08:40:36.466294",
     "status": "completed"
    },
    "tags": []
   },
   "outputs": [],
   "source": [
    "from sklearn.ensemble import RandomForestClassifier\n",
    "\n",
    "# Define the best parameters\n",
    "best_params = {'max_depth': 10, 'min_samples_leaf': 4, 'min_samples_split': 2, 'n_estimators': 100}\n",
    "\n",
    "# Create the RandomForestClassifier model with the best parameters\n",
    "model = RandomForestClassifier(**best_params)\n",
    "model.fit(train_1,y_train_1)\n",
    "y_pred_1=model.predict(test_1)"
   ]
  },
  {
   "cell_type": "markdown",
   "id": "4f56e52e",
   "metadata": {
    "papermill": {
     "duration": 0.011924,
     "end_time": "2023-06-30T08:40:40.330700",
     "exception": false,
     "start_time": "2023-06-30T08:40:40.318776",
     "status": "completed"
    },
    "tags": []
   },
   "source": [
    "Best parameters: {'max_depth': 10, 'min_samples_leaf': 4, 'min_samples_split': 2, 'n_estimators': 100}\n",
    "Best score: 0.7073724718534609"
   ]
  },
  {
   "cell_type": "code",
   "execution_count": 16,
   "id": "48857234",
   "metadata": {
    "execution": {
     "iopub.execute_input": "2023-06-30T08:40:40.357439Z",
     "iopub.status.busy": "2023-06-30T08:40:40.357068Z",
     "iopub.status.idle": "2023-06-30T08:40:40.364133Z",
     "shell.execute_reply": "2023-06-30T08:40:40.363032Z"
    },
    "papermill": {
     "duration": 0.023315,
     "end_time": "2023-06-30T08:40:40.366573",
     "exception": false,
     "start_time": "2023-06-30T08:40:40.343258",
     "status": "completed"
    },
    "tags": []
   },
   "outputs": [
    {
     "data": {
      "text/plain": [
       "True"
      ]
     },
     "execution_count": 16,
     "metadata": {},
     "output_type": "execute_result"
    }
   ],
   "source": [
    "test_1.shape[0]==len(y_pred_1)"
   ]
  },
  {
   "cell_type": "markdown",
   "id": "e9cfe2c1",
   "metadata": {
    "papermill": {
     "duration": 0.012411,
     "end_time": "2023-06-30T08:40:40.391461",
     "exception": false,
     "start_time": "2023-06-30T08:40:40.379050",
     "status": "completed"
    },
    "tags": []
   },
   "source": [
    "doing grid search for the 2nd target column as well"
   ]
  },
  {
   "cell_type": "code",
   "execution_count": 17,
   "id": "d0222f97",
   "metadata": {
    "execution": {
     "iopub.execute_input": "2023-06-30T08:40:40.418419Z",
     "iopub.status.busy": "2023-06-30T08:40:40.417803Z",
     "iopub.status.idle": "2023-06-30T08:40:40.423030Z",
     "shell.execute_reply": "2023-06-30T08:40:40.422254Z"
    },
    "papermill": {
     "duration": 0.021263,
     "end_time": "2023-06-30T08:40:40.425181",
     "exception": false,
     "start_time": "2023-06-30T08:40:40.403918",
     "status": "completed"
    },
    "tags": []
   },
   "outputs": [],
   "source": [
    "# from sklearn.ensemble import RandomForestClassifier\n",
    "# from sklearn.model_selection import GridSearchCV\n",
    "\n",
    "# # Create an object of RandomForestClassifier\n",
    "# rf_classifier = RandomForestClassifier()\n",
    "\n",
    "# # Define the parameter grid\n",
    "# param_grid = {\n",
    "#     'n_estimators': [50, 100, 200],\n",
    "#     'max_depth': [None, 5, 10],\n",
    "#     'min_samples_split': [2, 4, 8],\n",
    "#     'min_samples_leaf': [1, 2, 4]\n",
    "# }\n",
    "\n",
    "# # Create GridSearchCV object\n",
    "# grid_search_2= GridSearchCV(estimator=rf_classifier, param_grid=param_grid, cv=5)\n",
    "\n",
    "# # Fit the GridSearchCV object to the data\n",
    "# grid_search.fit(train_1, y_train_2)\n",
    "\n",
    "# # Get the best parameters and best score\n",
    "# best_params = grid_search.best_params_\n",
    "# best_score = grid_search.best_score_\n",
    "\n",
    "# print(\"Best parameters:\", best_params)\n",
    "# print(\"Best score:\", best_score)\n"
   ]
  },
  {
   "cell_type": "markdown",
   "id": "e0b9b575",
   "metadata": {
    "papermill": {
     "duration": 0.012018,
     "end_time": "2023-06-30T08:40:40.449912",
     "exception": false,
     "start_time": "2023-06-30T08:40:40.437894",
     "status": "completed"
    },
    "tags": []
   },
   "source": [
    "Best parameters: {'max_depth': 10, 'min_samples_leaf': 2, 'min_samples_split': 2, 'n_estimators': 50}\n",
    "Best score: 0.7990295314951437"
   ]
  },
  {
   "cell_type": "markdown",
   "id": "29cf3901",
   "metadata": {
    "papermill": {
     "duration": 0.011907,
     "end_time": "2023-06-30T08:40:40.474209",
     "exception": false,
     "start_time": "2023-06-30T08:40:40.462302",
     "status": "completed"
    },
    "tags": []
   },
   "source": [
    "fitting the model as required"
   ]
  },
  {
   "cell_type": "code",
   "execution_count": 18,
   "id": "bcca902e",
   "metadata": {
    "execution": {
     "iopub.execute_input": "2023-06-30T08:40:40.500788Z",
     "iopub.status.busy": "2023-06-30T08:40:40.500134Z",
     "iopub.status.idle": "2023-06-30T08:40:42.404846Z",
     "shell.execute_reply": "2023-06-30T08:40:42.403930Z"
    },
    "papermill": {
     "duration": 1.920827,
     "end_time": "2023-06-30T08:40:42.407416",
     "exception": false,
     "start_time": "2023-06-30T08:40:40.486589",
     "status": "completed"
    },
    "tags": []
   },
   "outputs": [],
   "source": [
    "model2 = RandomForestClassifier(max_depth=10, min_samples_leaf=2, min_samples_split=2, n_estimators=50)\n",
    "model2.fit(train_1, y_train_2)\n",
    "y_pred_2 = model2.predict(test_1)"
   ]
  },
  {
   "cell_type": "code",
   "execution_count": 19,
   "id": "e0ef17ae",
   "metadata": {
    "execution": {
     "iopub.execute_input": "2023-06-30T08:40:42.435256Z",
     "iopub.status.busy": "2023-06-30T08:40:42.434524Z",
     "iopub.status.idle": "2023-06-30T08:40:42.440740Z",
     "shell.execute_reply": "2023-06-30T08:40:42.439867Z"
    },
    "papermill": {
     "duration": 0.022614,
     "end_time": "2023-06-30T08:40:42.442892",
     "exception": false,
     "start_time": "2023-06-30T08:40:42.420278",
     "status": "completed"
    },
    "tags": []
   },
   "outputs": [
    {
     "data": {
      "text/plain": [
       "True"
      ]
     },
     "execution_count": 19,
     "metadata": {},
     "output_type": "execute_result"
    }
   ],
   "source": [
    "len(y_pred_2)==test_1.shape[0]"
   ]
  },
  {
   "cell_type": "markdown",
   "id": "51d6ae06",
   "metadata": {
    "papermill": {
     "duration": 0.01231,
     "end_time": "2023-06-30T08:40:42.468018",
     "exception": false,
     "start_time": "2023-06-30T08:40:42.455708",
     "status": "completed"
    },
    "tags": []
   },
   "source": [
    "creating a submission file"
   ]
  },
  {
   "cell_type": "markdown",
   "id": "d99dc0bd",
   "metadata": {
    "papermill": {
     "duration": 0.012231,
     "end_time": "2023-06-30T08:40:42.492895",
     "exception": false,
     "start_time": "2023-06-30T08:40:42.480664",
     "status": "completed"
    },
    "tags": []
   },
   "source": [
    "first creating a pandas dataframe as needed"
   ]
  },
  {
   "cell_type": "code",
   "execution_count": 20,
   "id": "674246b8",
   "metadata": {
    "execution": {
     "iopub.execute_input": "2023-06-30T08:40:42.520381Z",
     "iopub.status.busy": "2023-06-30T08:40:42.519361Z",
     "iopub.status.idle": "2023-06-30T08:40:42.526613Z",
     "shell.execute_reply": "2023-06-30T08:40:42.525759Z"
    },
    "papermill": {
     "duration": 0.02322,
     "end_time": "2023-06-30T08:40:42.528841",
     "exception": false,
     "start_time": "2023-06-30T08:40:42.505621",
     "status": "completed"
    },
    "tags": []
   },
   "outputs": [],
   "source": [
    "# Create a DataFrame with 'id' column from test_1\n",
    "df = pd.DataFrame({'id': test_data['id']})\n",
    "\n",
    "# Add 'EC1' column containing the array y_train_1\n",
    "df['EC1'] = pd.Series(y_pred_1)\n",
    "\n",
    "# Add 'EC2' column containing the array y_train_2\n",
    "df['EC2'] = pd.Series(y_pred_2)"
   ]
  },
  {
   "cell_type": "code",
   "execution_count": 21,
   "id": "0b0b219e",
   "metadata": {
    "execution": {
     "iopub.execute_input": "2023-06-30T08:40:42.556475Z",
     "iopub.status.busy": "2023-06-30T08:40:42.555770Z",
     "iopub.status.idle": "2023-06-30T08:40:42.562284Z",
     "shell.execute_reply": "2023-06-30T08:40:42.561240Z"
    },
    "papermill": {
     "duration": 0.023453,
     "end_time": "2023-06-30T08:40:42.565042",
     "exception": false,
     "start_time": "2023-06-30T08:40:42.541589",
     "status": "completed"
    },
    "tags": []
   },
   "outputs": [
    {
     "data": {
      "text/plain": [
       "(9893, 3)"
      ]
     },
     "execution_count": 21,
     "metadata": {},
     "output_type": "execute_result"
    }
   ],
   "source": [
    "df.shape"
   ]
  },
  {
   "cell_type": "code",
   "execution_count": 22,
   "id": "03289f0f",
   "metadata": {
    "execution": {
     "iopub.execute_input": "2023-06-30T08:40:42.592328Z",
     "iopub.status.busy": "2023-06-30T08:40:42.591870Z",
     "iopub.status.idle": "2023-06-30T08:40:42.598902Z",
     "shell.execute_reply": "2023-06-30T08:40:42.597848Z"
    },
    "papermill": {
     "duration": 0.0233,
     "end_time": "2023-06-30T08:40:42.601126",
     "exception": false,
     "start_time": "2023-06-30T08:40:42.577826",
     "status": "completed"
    },
    "tags": []
   },
   "outputs": [
    {
     "data": {
      "text/plain": [
       "Index(['id', 'EC1', 'EC2'], dtype='object')"
      ]
     },
     "execution_count": 22,
     "metadata": {},
     "output_type": "execute_result"
    }
   ],
   "source": [
    "df.columns"
   ]
  },
  {
   "cell_type": "code",
   "execution_count": 23,
   "id": "7506acde",
   "metadata": {
    "execution": {
     "iopub.execute_input": "2023-06-30T08:40:42.630474Z",
     "iopub.status.busy": "2023-06-30T08:40:42.630090Z",
     "iopub.status.idle": "2023-06-30T08:40:42.636739Z",
     "shell.execute_reply": "2023-06-30T08:40:42.635677Z"
    },
    "papermill": {
     "duration": 0.023458,
     "end_time": "2023-06-30T08:40:42.638913",
     "exception": false,
     "start_time": "2023-06-30T08:40:42.615455",
     "status": "completed"
    },
    "tags": []
   },
   "outputs": [
    {
     "data": {
      "text/plain": [
       "(9893, 3)"
      ]
     },
     "execution_count": 23,
     "metadata": {},
     "output_type": "execute_result"
    }
   ],
   "source": [
    "sample.shape"
   ]
  },
  {
   "cell_type": "markdown",
   "id": "d161978e",
   "metadata": {
    "papermill": {
     "duration": 0.012658,
     "end_time": "2023-06-30T08:40:42.664744",
     "exception": false,
     "start_time": "2023-06-30T08:40:42.652086",
     "status": "completed"
    },
    "tags": []
   },
   "source": [
    "submitting the df dataset as needed"
   ]
  },
  {
   "cell_type": "code",
   "execution_count": 24,
   "id": "29f92b20",
   "metadata": {
    "execution": {
     "iopub.execute_input": "2023-06-30T08:40:42.692829Z",
     "iopub.status.busy": "2023-06-30T08:40:42.692414Z",
     "iopub.status.idle": "2023-06-30T08:40:42.726447Z",
     "shell.execute_reply": "2023-06-30T08:40:42.725533Z"
    },
    "papermill": {
     "duration": 0.051337,
     "end_time": "2023-06-30T08:40:42.729186",
     "exception": false,
     "start_time": "2023-06-30T08:40:42.677849",
     "status": "completed"
    },
    "tags": []
   },
   "outputs": [],
   "source": [
    "df.to_csv('submission.csv',index=False)"
   ]
  },
  {
   "cell_type": "code",
   "execution_count": null,
   "id": "d55b145c",
   "metadata": {
    "papermill": {
     "duration": 0.012731,
     "end_time": "2023-06-30T08:40:42.755076",
     "exception": false,
     "start_time": "2023-06-30T08:40:42.742345",
     "status": "completed"
    },
    "tags": []
   },
   "outputs": [],
   "source": []
  }
 ],
 "metadata": {
  "kernelspec": {
   "display_name": "Python 3",
   "language": "python",
   "name": "python3"
  },
  "language_info": {
   "codemirror_mode": {
    "name": "ipython",
    "version": 3
   },
   "file_extension": ".py",
   "mimetype": "text/x-python",
   "name": "python",
   "nbconvert_exporter": "python",
   "pygments_lexer": "ipython3",
   "version": "3.10.10"
  },
  "papermill": {
   "default_parameters": {},
   "duration": 28.089007,
   "end_time": "2023-06-30T08:40:43.790926",
   "environment_variables": {},
   "exception": null,
   "input_path": "__notebook__.ipynb",
   "output_path": "__notebook__.ipynb",
   "parameters": {},
   "start_time": "2023-06-30T08:40:15.701919",
   "version": "2.4.0"
  }
 },
 "nbformat": 4,
 "nbformat_minor": 5
}
