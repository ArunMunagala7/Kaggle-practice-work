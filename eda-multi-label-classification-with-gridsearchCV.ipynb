{
 "cells": [
  {
   "cell_type": "code",
   "execution_count": 1,
   "id": "37b9b838",
   "metadata": {
    "_cell_guid": "b1076dfc-b9ad-4769-8c92-a6c4dae69d19",
    "_uuid": "8f2839f25d086af736a60e9eeb907d3b93b6e0e5",
    "execution": {
     "iopub.execute_input": "2023-06-30T08:37:46.356706Z",
     "iopub.status.busy": "2023-06-30T08:37:46.356037Z",
     "iopub.status.idle": "2023-06-30T08:37:46.383212Z",
     "shell.execute_reply": "2023-06-30T08:37:46.381637Z"
    },
    "papermill": {
     "duration": 0.047498,
     "end_time": "2023-06-30T08:37:46.386288",
     "exception": false,
     "start_time": "2023-06-30T08:37:46.338790",
     "status": "completed"
    },
    "tags": []
   },
   "outputs": [
    {
     "name": "stdout",
     "output_type": "stream",
     "text": [
      "/kaggle/input/playground-series-s3e18/sample_submission.csv\n",
      "/kaggle/input/playground-series-s3e18/train.csv\n",
      "/kaggle/input/playground-series-s3e18/test.csv\n",
      "/kaggle/input/ec-mixed-class/mixed_fcfp.csv\n",
      "/kaggle/input/ec-mixed-class/mixed_desc.csv\n",
      "/kaggle/input/ec-mixed-class/mixed_ecfp.csv\n"
     ]
    }
   ],
   "source": [
    "# This Python 3 environment comes with many helpful analytics libraries installed\n",
    "# It is defined by the kaggle/python Docker image: https://github.com/kaggle/docker-python\n",
    "# For example, here's several helpful packages to load\n",
    "\n",
    "import numpy as np # linear algebra\n",
    "import pandas as pd # data processing, CSV file I/O (e.g. pd.read_csv)\n",
    "\n",
    "# Input data files are available in the read-only \"../input/\" directory\n",
    "# For example, running this (by clicking run or pressing Shift+Enter) will list all files under the input directory\n",
    "\n",
    "import os\n",
    "for dirname, _, filenames in os.walk('/kaggle/input'):\n",
    "    for filename in filenames:\n",
    "        print(os.path.join(dirname, filename))\n",
    "\n",
    "# You can write up to 20GB to the current directory (/kaggle/working/) that gets preserved as output when you create a version using \"Save & Run All\" \n",
    "# You can also write temporary files to /kaggle/temp/, but they won't be saved outside of the current session"
   ]
  },
  {
   "cell_type": "code",
   "execution_count": 2,
   "id": "aab639d9",
   "metadata": {
    "execution": {
     "iopub.execute_input": "2023-06-30T08:37:46.412027Z",
     "iopub.status.busy": "2023-06-30T08:37:46.411572Z",
     "iopub.status.idle": "2023-06-30T08:37:46.788737Z",
     "shell.execute_reply": "2023-06-30T08:37:46.787540Z"
    },
    "papermill": {
     "duration": 0.3939,
     "end_time": "2023-06-30T08:37:46.791884",
     "exception": false,
     "start_time": "2023-06-30T08:37:46.397984",
     "status": "completed"
    },
    "tags": []
   },
   "outputs": [],
   "source": [
    "train_data=pd.read_csv('/kaggle/input/playground-series-s3e18/train.csv')\n",
    "test_data=pd.read_csv('/kaggle/input/playground-series-s3e18/test.csv')\n",
    "sample=pd.read_csv('/kaggle/input/playground-series-s3e18/sample_submission.csv')"
   ]
  },
  {
   "cell_type": "code",
   "execution_count": 3,
   "id": "7c8f75f2",
   "metadata": {
    "execution": {
     "iopub.execute_input": "2023-06-30T08:37:46.817803Z",
     "iopub.status.busy": "2023-06-30T08:37:46.817352Z",
     "iopub.status.idle": "2023-06-30T08:37:46.876759Z",
     "shell.execute_reply": "2023-06-30T08:37:46.875242Z"
    },
    "papermill": {
     "duration": 0.076703,
     "end_time": "2023-06-30T08:37:46.880608",
     "exception": false,
     "start_time": "2023-06-30T08:37:46.803905",
     "status": "completed"
    },
    "tags": []
   },
   "outputs": [
    {
     "data": {
      "text/html": [
       "<div>\n",
       "<style scoped>\n",
       "    .dataframe tbody tr th:only-of-type {\n",
       "        vertical-align: middle;\n",
       "    }\n",
       "\n",
       "    .dataframe tbody tr th {\n",
       "        vertical-align: top;\n",
       "    }\n",
       "\n",
       "    .dataframe thead th {\n",
       "        text-align: right;\n",
       "    }\n",
       "</style>\n",
       "<table border=\"1\" class=\"dataframe\">\n",
       "  <thead>\n",
       "    <tr style=\"text-align: right;\">\n",
       "      <th></th>\n",
       "      <th>id</th>\n",
       "      <th>BertzCT</th>\n",
       "      <th>Chi1</th>\n",
       "      <th>Chi1n</th>\n",
       "      <th>Chi1v</th>\n",
       "      <th>Chi2n</th>\n",
       "      <th>Chi2v</th>\n",
       "      <th>Chi3v</th>\n",
       "      <th>Chi4n</th>\n",
       "      <th>EState_VSA1</th>\n",
       "      <th>...</th>\n",
       "      <th>SlogP_VSA3</th>\n",
       "      <th>VSA_EState9</th>\n",
       "      <th>fr_COO</th>\n",
       "      <th>fr_COO2</th>\n",
       "      <th>EC1</th>\n",
       "      <th>EC2</th>\n",
       "      <th>EC3</th>\n",
       "      <th>EC4</th>\n",
       "      <th>EC5</th>\n",
       "      <th>EC6</th>\n",
       "    </tr>\n",
       "  </thead>\n",
       "  <tbody>\n",
       "    <tr>\n",
       "      <th>0</th>\n",
       "      <td>0</td>\n",
       "      <td>323.390782</td>\n",
       "      <td>9.879918</td>\n",
       "      <td>5.875576</td>\n",
       "      <td>5.875576</td>\n",
       "      <td>4.304757</td>\n",
       "      <td>4.304757</td>\n",
       "      <td>2.754513</td>\n",
       "      <td>1.749203</td>\n",
       "      <td>0.000000</td>\n",
       "      <td>...</td>\n",
       "      <td>4.794537</td>\n",
       "      <td>35.527357</td>\n",
       "      <td>0</td>\n",
       "      <td>0</td>\n",
       "      <td>1</td>\n",
       "      <td>1</td>\n",
       "      <td>0</td>\n",
       "      <td>0</td>\n",
       "      <td>0</td>\n",
       "      <td>0</td>\n",
       "    </tr>\n",
       "    <tr>\n",
       "      <th>1</th>\n",
       "      <td>1</td>\n",
       "      <td>273.723798</td>\n",
       "      <td>7.259037</td>\n",
       "      <td>4.441467</td>\n",
       "      <td>5.834958</td>\n",
       "      <td>3.285046</td>\n",
       "      <td>4.485235</td>\n",
       "      <td>2.201375</td>\n",
       "      <td>1.289775</td>\n",
       "      <td>45.135471</td>\n",
       "      <td>...</td>\n",
       "      <td>13.825658</td>\n",
       "      <td>44.707310</td>\n",
       "      <td>0</td>\n",
       "      <td>0</td>\n",
       "      <td>0</td>\n",
       "      <td>1</td>\n",
       "      <td>1</td>\n",
       "      <td>0</td>\n",
       "      <td>0</td>\n",
       "      <td>0</td>\n",
       "    </tr>\n",
       "    <tr>\n",
       "      <th>2</th>\n",
       "      <td>2</td>\n",
       "      <td>521.643822</td>\n",
       "      <td>10.911303</td>\n",
       "      <td>8.527859</td>\n",
       "      <td>11.050864</td>\n",
       "      <td>6.665291</td>\n",
       "      <td>9.519706</td>\n",
       "      <td>5.824822</td>\n",
       "      <td>1.770579</td>\n",
       "      <td>15.645394</td>\n",
       "      <td>...</td>\n",
       "      <td>17.964475</td>\n",
       "      <td>45.660120</td>\n",
       "      <td>0</td>\n",
       "      <td>0</td>\n",
       "      <td>1</td>\n",
       "      <td>1</td>\n",
       "      <td>0</td>\n",
       "      <td>0</td>\n",
       "      <td>1</td>\n",
       "      <td>0</td>\n",
       "    </tr>\n",
       "    <tr>\n",
       "      <th>3</th>\n",
       "      <td>3</td>\n",
       "      <td>567.431166</td>\n",
       "      <td>12.453343</td>\n",
       "      <td>7.089119</td>\n",
       "      <td>12.833709</td>\n",
       "      <td>6.478023</td>\n",
       "      <td>10.978151</td>\n",
       "      <td>7.914542</td>\n",
       "      <td>3.067181</td>\n",
       "      <td>95.639554</td>\n",
       "      <td>...</td>\n",
       "      <td>31.961948</td>\n",
       "      <td>87.509997</td>\n",
       "      <td>0</td>\n",
       "      <td>0</td>\n",
       "      <td>1</td>\n",
       "      <td>1</td>\n",
       "      <td>0</td>\n",
       "      <td>0</td>\n",
       "      <td>0</td>\n",
       "      <td>0</td>\n",
       "    </tr>\n",
       "    <tr>\n",
       "      <th>4</th>\n",
       "      <td>4</td>\n",
       "      <td>112.770735</td>\n",
       "      <td>4.414719</td>\n",
       "      <td>2.866236</td>\n",
       "      <td>2.866236</td>\n",
       "      <td>1.875634</td>\n",
       "      <td>1.875634</td>\n",
       "      <td>1.036450</td>\n",
       "      <td>0.727664</td>\n",
       "      <td>17.980451</td>\n",
       "      <td>...</td>\n",
       "      <td>9.589074</td>\n",
       "      <td>33.333333</td>\n",
       "      <td>2</td>\n",
       "      <td>2</td>\n",
       "      <td>1</td>\n",
       "      <td>0</td>\n",
       "      <td>1</td>\n",
       "      <td>1</td>\n",
       "      <td>1</td>\n",
       "      <td>0</td>\n",
       "    </tr>\n",
       "  </tbody>\n",
       "</table>\n",
       "<p>5 rows × 38 columns</p>\n",
       "</div>"
      ],
      "text/plain": [
       "   id     BertzCT       Chi1     Chi1n      Chi1v     Chi2n      Chi2v  \\\n",
       "0   0  323.390782   9.879918  5.875576   5.875576  4.304757   4.304757   \n",
       "1   1  273.723798   7.259037  4.441467   5.834958  3.285046   4.485235   \n",
       "2   2  521.643822  10.911303  8.527859  11.050864  6.665291   9.519706   \n",
       "3   3  567.431166  12.453343  7.089119  12.833709  6.478023  10.978151   \n",
       "4   4  112.770735   4.414719  2.866236   2.866236  1.875634   1.875634   \n",
       "\n",
       "      Chi3v     Chi4n  EState_VSA1  ...  SlogP_VSA3  VSA_EState9  fr_COO  \\\n",
       "0  2.754513  1.749203     0.000000  ...    4.794537    35.527357       0   \n",
       "1  2.201375  1.289775    45.135471  ...   13.825658    44.707310       0   \n",
       "2  5.824822  1.770579    15.645394  ...   17.964475    45.660120       0   \n",
       "3  7.914542  3.067181    95.639554  ...   31.961948    87.509997       0   \n",
       "4  1.036450  0.727664    17.980451  ...    9.589074    33.333333       2   \n",
       "\n",
       "   fr_COO2  EC1  EC2  EC3  EC4  EC5  EC6  \n",
       "0        0    1    1    0    0    0    0  \n",
       "1        0    0    1    1    0    0    0  \n",
       "2        0    1    1    0    0    1    0  \n",
       "3        0    1    1    0    0    0    0  \n",
       "4        2    1    0    1    1    1    0  \n",
       "\n",
       "[5 rows x 38 columns]"
      ]
     },
     "execution_count": 3,
     "metadata": {},
     "output_type": "execute_result"
    }
   ],
   "source": [
    "train_data.head()"
   ]
  },
  {
   "cell_type": "code",
   "execution_count": 4,
   "id": "ea26488b",
   "metadata": {
    "execution": {
     "iopub.execute_input": "2023-06-30T08:37:46.907173Z",
     "iopub.status.busy": "2023-06-30T08:37:46.906500Z",
     "iopub.status.idle": "2023-06-30T08:37:46.919552Z",
     "shell.execute_reply": "2023-06-30T08:37:46.918248Z"
    },
    "papermill": {
     "duration": 0.029938,
     "end_time": "2023-06-30T08:37:46.922622",
     "exception": false,
     "start_time": "2023-06-30T08:37:46.892684",
     "status": "completed"
    },
    "tags": []
   },
   "outputs": [
    {
     "data": {
      "text/plain": [
       "0"
      ]
     },
     "execution_count": 4,
     "metadata": {},
     "output_type": "execute_result"
    }
   ],
   "source": [
    "train_data.isna().sum().sum()"
   ]
  },
  {
   "cell_type": "code",
   "execution_count": 5,
   "id": "4a950993",
   "metadata": {
    "execution": {
     "iopub.execute_input": "2023-06-30T08:37:46.949227Z",
     "iopub.status.busy": "2023-06-30T08:37:46.948775Z",
     "iopub.status.idle": "2023-06-30T08:37:46.956464Z",
     "shell.execute_reply": "2023-06-30T08:37:46.955253Z"
    },
    "papermill": {
     "duration": 0.02439,
     "end_time": "2023-06-30T08:37:46.959067",
     "exception": false,
     "start_time": "2023-06-30T08:37:46.934677",
     "status": "completed"
    },
    "tags": []
   },
   "outputs": [
    {
     "data": {
      "text/plain": [
       "(9893, 32)"
      ]
     },
     "execution_count": 5,
     "metadata": {},
     "output_type": "execute_result"
    }
   ],
   "source": [
    "test_data.shape"
   ]
  },
  {
   "cell_type": "code",
   "execution_count": 6,
   "id": "9fc25d03",
   "metadata": {
    "execution": {
     "iopub.execute_input": "2023-06-30T08:37:46.984827Z",
     "iopub.status.busy": "2023-06-30T08:37:46.984417Z",
     "iopub.status.idle": "2023-06-30T08:37:46.992493Z",
     "shell.execute_reply": "2023-06-30T08:37:46.991041Z"
    },
    "papermill": {
     "duration": 0.024095,
     "end_time": "2023-06-30T08:37:46.995061",
     "exception": false,
     "start_time": "2023-06-30T08:37:46.970966",
     "status": "completed"
    },
    "tags": []
   },
   "outputs": [
    {
     "name": "stdout",
     "output_type": "stream",
     "text": [
      "Uncommon columns between train_data and test_data:\n",
      "EC5\n",
      "EC4\n",
      "EC2\n",
      "EC3\n",
      "EC6\n",
      "EC1\n"
     ]
    }
   ],
   "source": [
    "import pandas as pd\n",
    "\n",
    "# Get the column names from each dataset\n",
    "train_columns = set(train_data.columns)\n",
    "test_columns = set(test_data.columns)\n",
    "\n",
    "# Find the uncommon columns\n",
    "uncommon_columns = train_columns.symmetric_difference(test_columns)\n",
    "\n",
    "# Print the uncommon columns\n",
    "print(\"Uncommon columns between train_data and test_data:\")\n",
    "for column in uncommon_columns:\n",
    "    print(column)"
   ]
  },
  {
   "cell_type": "code",
   "execution_count": 7,
   "id": "507365b0",
   "metadata": {
    "execution": {
     "iopub.execute_input": "2023-06-30T08:37:47.024259Z",
     "iopub.status.busy": "2023-06-30T08:37:47.023496Z",
     "iopub.status.idle": "2023-06-30T08:37:47.032057Z",
     "shell.execute_reply": "2023-06-30T08:37:47.030841Z"
    },
    "papermill": {
     "duration": 0.026311,
     "end_time": "2023-06-30T08:37:47.034618",
     "exception": false,
     "start_time": "2023-06-30T08:37:47.008307",
     "status": "completed"
    },
    "tags": []
   },
   "outputs": [
    {
     "data": {
      "text/plain": [
       "Index(['id', 'BertzCT', 'Chi1', 'Chi1n', 'Chi1v', 'Chi2n', 'Chi2v', 'Chi3v',\n",
       "       'Chi4n', 'EState_VSA1', 'EState_VSA2', 'ExactMolWt', 'FpDensityMorgan1',\n",
       "       'FpDensityMorgan2', 'FpDensityMorgan3', 'HallKierAlpha',\n",
       "       'HeavyAtomMolWt', 'Kappa3', 'MaxAbsEStateIndex', 'MinEStateIndex',\n",
       "       'NumHeteroatoms', 'PEOE_VSA10', 'PEOE_VSA14', 'PEOE_VSA6', 'PEOE_VSA7',\n",
       "       'PEOE_VSA8', 'SMR_VSA10', 'SMR_VSA5', 'SlogP_VSA3', 'VSA_EState9',\n",
       "       'fr_COO', 'fr_COO2', 'EC1', 'EC2', 'EC3', 'EC4', 'EC5', 'EC6'],\n",
       "      dtype='object')"
      ]
     },
     "execution_count": 7,
     "metadata": {},
     "output_type": "execute_result"
    }
   ],
   "source": [
    "train_data.columns"
   ]
  },
  {
   "cell_type": "markdown",
   "id": "6f97edca",
   "metadata": {
    "papermill": {
     "duration": 0.012399,
     "end_time": "2023-06-30T08:37:47.059969",
     "exception": false,
     "start_time": "2023-06-30T08:37:47.047570",
     "status": "completed"
    },
    "tags": []
   },
   "source": [
    "finding the number of similar test_data columns"
   ]
  },
  {
   "cell_type": "code",
   "execution_count": 8,
   "id": "867545df",
   "metadata": {
    "execution": {
     "iopub.execute_input": "2023-06-30T08:37:47.086643Z",
     "iopub.status.busy": "2023-06-30T08:37:47.086066Z",
     "iopub.status.idle": "2023-06-30T08:37:47.094783Z",
     "shell.execute_reply": "2023-06-30T08:37:47.093451Z"
    },
    "papermill": {
     "duration": 0.025078,
     "end_time": "2023-06-30T08:37:47.097372",
     "exception": false,
     "start_time": "2023-06-30T08:37:47.072294",
     "status": "completed"
    },
    "tags": []
   },
   "outputs": [
    {
     "data": {
      "text/plain": [
       "Index(['id', 'BertzCT', 'Chi1', 'Chi1n', 'Chi1v', 'Chi2n', 'Chi2v', 'Chi3v',\n",
       "       'Chi4n', 'EState_VSA1', 'EState_VSA2', 'ExactMolWt', 'FpDensityMorgan1',\n",
       "       'FpDensityMorgan2', 'FpDensityMorgan3', 'HallKierAlpha',\n",
       "       'HeavyAtomMolWt', 'Kappa3', 'MaxAbsEStateIndex', 'MinEStateIndex',\n",
       "       'NumHeteroatoms', 'PEOE_VSA10', 'PEOE_VSA14', 'PEOE_VSA6', 'PEOE_VSA7',\n",
       "       'PEOE_VSA8', 'SMR_VSA10', 'SMR_VSA5', 'SlogP_VSA3', 'VSA_EState9',\n",
       "       'fr_COO', 'fr_COO2'],\n",
       "      dtype='object')"
      ]
     },
     "execution_count": 8,
     "metadata": {},
     "output_type": "execute_result"
    }
   ],
   "source": [
    "test_data.columns"
   ]
  },
  {
   "cell_type": "markdown",
   "id": "8a174928",
   "metadata": {
    "papermill": {
     "duration": 0.011997,
     "end_time": "2023-06-30T08:37:47.121964",
     "exception": false,
     "start_time": "2023-06-30T08:37:47.109967",
     "status": "completed"
    },
    "tags": []
   },
   "source": [
    "finding the number of unique values of the target columns to understand how to classify"
   ]
  },
  {
   "cell_type": "code",
   "execution_count": 9,
   "id": "a4a1b3ac",
   "metadata": {
    "execution": {
     "iopub.execute_input": "2023-06-30T08:37:47.149355Z",
     "iopub.status.busy": "2023-06-30T08:37:47.148550Z",
     "iopub.status.idle": "2023-06-30T08:37:47.160683Z",
     "shell.execute_reply": "2023-06-30T08:37:47.159611Z"
    },
    "papermill": {
     "duration": 0.028865,
     "end_time": "2023-06-30T08:37:47.163368",
     "exception": false,
     "start_time": "2023-06-30T08:37:47.134503",
     "status": "completed"
    },
    "tags": []
   },
   "outputs": [
    {
     "data": {
      "text/plain": [
       "array([1, 0])"
      ]
     },
     "execution_count": 9,
     "metadata": {},
     "output_type": "execute_result"
    }
   ],
   "source": [
    "train_data['EC2'].unique()"
   ]
  },
  {
   "cell_type": "markdown",
   "id": "fb71e0b7",
   "metadata": {
    "papermill": {
     "duration": 0.012078,
     "end_time": "2023-06-30T08:37:47.187982",
     "exception": false,
     "start_time": "2023-06-30T08:37:47.175904",
     "status": "completed"
    },
    "tags": []
   },
   "source": [
    "therefore the values of EC1 and EC2 are unique"
   ]
  },
  {
   "cell_type": "markdown",
   "id": "4ea47a88",
   "metadata": {
    "papermill": {
     "duration": 0.011981,
     "end_time": "2023-06-30T08:37:47.212544",
     "exception": false,
     "start_time": "2023-06-30T08:37:47.200563",
     "status": "completed"
    },
    "tags": []
   },
   "source": [
    "storing the training and testing data as needed"
   ]
  },
  {
   "cell_type": "code",
   "execution_count": 10,
   "id": "c813e6a3",
   "metadata": {
    "execution": {
     "iopub.execute_input": "2023-06-30T08:37:47.239673Z",
     "iopub.status.busy": "2023-06-30T08:37:47.239168Z",
     "iopub.status.idle": "2023-06-30T08:37:47.254285Z",
     "shell.execute_reply": "2023-06-30T08:37:47.252720Z"
    },
    "papermill": {
     "duration": 0.032272,
     "end_time": "2023-06-30T08:37:47.257268",
     "exception": false,
     "start_time": "2023-06-30T08:37:47.224996",
     "status": "completed"
    },
    "tags": []
   },
   "outputs": [],
   "source": [
    "# Extract column names for test_1 dataset\n",
    "test_columns = test_data.columns[1:]\n",
    "\n",
    "# Create test_1 dataset from test_data\n",
    "test_1 = test_data[test_columns]\n",
    "\n",
    "# Extract column names for train_1 dataset\n",
    "train_columns = [column for column in train_data.columns if column in test_columns]\n",
    "\n",
    "# Create train_1 dataset from train_data\n",
    "train_1 = train_data[train_columns]"
   ]
  },
  {
   "cell_type": "code",
   "execution_count": 11,
   "id": "06211fda",
   "metadata": {
    "execution": {
     "iopub.execute_input": "2023-06-30T08:37:47.285271Z",
     "iopub.status.busy": "2023-06-30T08:37:47.284823Z",
     "iopub.status.idle": "2023-06-30T08:37:47.293804Z",
     "shell.execute_reply": "2023-06-30T08:37:47.292863Z"
    },
    "papermill": {
     "duration": 0.026026,
     "end_time": "2023-06-30T08:37:47.296469",
     "exception": false,
     "start_time": "2023-06-30T08:37:47.270443",
     "status": "completed"
    },
    "tags": []
   },
   "outputs": [
    {
     "data": {
      "text/plain": [
       "0"
      ]
     },
     "execution_count": 11,
     "metadata": {},
     "output_type": "execute_result"
    }
   ],
   "source": [
    "train_1.isnull().sum().sum()"
   ]
  },
  {
   "cell_type": "markdown",
   "id": "6b39d270",
   "metadata": {
    "papermill": {
     "duration": 0.012612,
     "end_time": "2023-06-30T08:37:47.322430",
     "exception": false,
     "start_time": "2023-06-30T08:37:47.309818",
     "status": "completed"
    },
    "tags": []
   },
   "source": [
    "basic rf modelling to kick it off"
   ]
  },
  {
   "cell_type": "code",
   "execution_count": 12,
   "id": "3b6b95ef",
   "metadata": {
    "execution": {
     "iopub.execute_input": "2023-06-30T08:37:47.350995Z",
     "iopub.status.busy": "2023-06-30T08:37:47.349866Z",
     "iopub.status.idle": "2023-06-30T08:37:47.355117Z",
     "shell.execute_reply": "2023-06-30T08:37:47.354243Z"
    },
    "papermill": {
     "duration": 0.022029,
     "end_time": "2023-06-30T08:37:47.357488",
     "exception": false,
     "start_time": "2023-06-30T08:37:47.335459",
     "status": "completed"
    },
    "tags": []
   },
   "outputs": [],
   "source": [
    "y_train_1=train_data['EC1']\n",
    "y_train_2=train_data['EC2']"
   ]
  },
  {
   "cell_type": "markdown",
   "id": "612694d6",
   "metadata": {
    "papermill": {
     "duration": 0.012405,
     "end_time": "2023-06-30T08:37:47.382919",
     "exception": false,
     "start_time": "2023-06-30T08:37:47.370514",
     "status": "completed"
    },
    "tags": []
   },
   "source": [
    "fitting and predicting the first category column"
   ]
  },
  {
   "cell_type": "code",
   "execution_count": 13,
   "id": "d01186ee",
   "metadata": {
    "execution": {
     "iopub.execute_input": "2023-06-30T08:37:47.410648Z",
     "iopub.status.busy": "2023-06-30T08:37:47.410097Z",
     "iopub.status.idle": "2023-06-30T08:37:56.125473Z",
     "shell.execute_reply": "2023-06-30T08:37:56.124098Z"
    },
    "papermill": {
     "duration": 8.73287,
     "end_time": "2023-06-30T08:37:56.128699",
     "exception": false,
     "start_time": "2023-06-30T08:37:47.395829",
     "status": "completed"
    },
    "tags": []
   },
   "outputs": [],
   "source": [
    "from sklearn.ensemble import RandomForestClassifier\n",
    "\n",
    "# Create an object of RandomForestClassifier\n",
    "model1= RandomForestClassifier()\n",
    "\n",
    "model1.fit(train_1,y_train_1)\n",
    "y_pred_1=model1.predict(test_1)"
   ]
  },
  {
   "cell_type": "markdown",
   "id": "bb55772b",
   "metadata": {
    "papermill": {
     "duration": 0.013528,
     "end_time": "2023-06-30T08:37:56.155859",
     "exception": false,
     "start_time": "2023-06-30T08:37:56.142331",
     "status": "completed"
    },
    "tags": []
   },
   "source": [
    "doing the same but with grid search instead"
   ]
  },
  {
   "cell_type": "code",
   "execution_count": 14,
   "id": "6a10de97",
   "metadata": {
    "execution": {
     "iopub.execute_input": "2023-06-30T08:37:56.184221Z",
     "iopub.status.busy": "2023-06-30T08:37:56.183765Z",
     "iopub.status.idle": "2023-06-30T08:37:56.190125Z",
     "shell.execute_reply": "2023-06-30T08:37:56.188726Z"
    },
    "papermill": {
     "duration": 0.023662,
     "end_time": "2023-06-30T08:37:56.192721",
     "exception": false,
     "start_time": "2023-06-30T08:37:56.169059",
     "status": "completed"
    },
    "tags": []
   },
   "outputs": [],
   "source": [
    "# from sklearn.ensemble import RandomForestClassifier\n",
    "# from sklearn.model_selection import GridSearchCV\n",
    "\n",
    "# # Create an object of RandomForestClassifier\n",
    "# rf_classifier = RandomForestClassifier()\n",
    "\n",
    "# # Define the parameter grid\n",
    "# param_grid = {\n",
    "#     'n_estimators': [50, 100, 200],\n",
    "#     'max_depth': [None, 5, 10],\n",
    "#     'min_samples_split': [2, 4, 8],\n",
    "#     'min_samples_leaf': [1, 2, 4]\n",
    "# }\n",
    "\n",
    "# # Create GridSearchCV object\n",
    "# grid_search = GridSearchCV(estimator=rf_classifier, param_grid=param_grid, cv=5)\n",
    "\n",
    "# # Fit the GridSearchCV object to the data\n",
    "# grid_search.fit(train_1, y_train_1)\n",
    "\n",
    "# # Get the best parameters and best score\n",
    "# best_params = grid_search.best_params_\n",
    "# best_score = grid_search.best_score_\n",
    "\n",
    "# print(\"Best parameters:\", best_params)\n",
    "# print(\"Best score:\", best_score)\n"
   ]
  },
  {
   "cell_type": "code",
   "execution_count": 15,
   "id": "ea4e2e7c",
   "metadata": {
    "execution": {
     "iopub.execute_input": "2023-06-30T08:37:56.220943Z",
     "iopub.status.busy": "2023-06-30T08:37:56.220492Z",
     "iopub.status.idle": "2023-06-30T08:38:00.109127Z",
     "shell.execute_reply": "2023-06-30T08:38:00.107586Z"
    },
    "papermill": {
     "duration": 3.906364,
     "end_time": "2023-06-30T08:38:00.112363",
     "exception": false,
     "start_time": "2023-06-30T08:37:56.205999",
     "status": "completed"
    },
    "tags": []
   },
   "outputs": [],
   "source": [
    "from sklearn.ensemble import RandomForestClassifier\n",
    "\n",
    "# Define the best parameters\n",
    "best_params = {'max_depth': 10, 'min_samples_leaf': 4, 'min_samples_split': 2, 'n_estimators': 100}\n",
    "\n",
    "# Create the RandomForestClassifier model with the best parameters\n",
    "model = RandomForestClassifier(**best_params)\n",
    "model.fit(train_1,y_train_1)\n",
    "y_pred_1=model.predict(test_1)"
   ]
  },
  {
   "cell_type": "markdown",
   "id": "006efa8c",
   "metadata": {
    "papermill": {
     "duration": 0.013378,
     "end_time": "2023-06-30T08:38:00.139059",
     "exception": false,
     "start_time": "2023-06-30T08:38:00.125681",
     "status": "completed"
    },
    "tags": []
   },
   "source": [
    "Best parameters: {'max_depth': 10, 'min_samples_leaf': 4, 'min_samples_split': 2, 'n_estimators': 100}\n",
    "Best score: 0.7073724718534609"
   ]
  },
  {
   "cell_type": "code",
   "execution_count": 16,
   "id": "ab91d982",
   "metadata": {
    "execution": {
     "iopub.execute_input": "2023-06-30T08:38:00.167941Z",
     "iopub.status.busy": "2023-06-30T08:38:00.167490Z",
     "iopub.status.idle": "2023-06-30T08:38:00.175295Z",
     "shell.execute_reply": "2023-06-30T08:38:00.173948Z"
    },
    "papermill": {
     "duration": 0.025923,
     "end_time": "2023-06-30T08:38:00.178246",
     "exception": false,
     "start_time": "2023-06-30T08:38:00.152323",
     "status": "completed"
    },
    "tags": []
   },
   "outputs": [
    {
     "data": {
      "text/plain": [
       "True"
      ]
     },
     "execution_count": 16,
     "metadata": {},
     "output_type": "execute_result"
    }
   ],
   "source": [
    "test_1.shape[0]==len(y_pred_1)"
   ]
  },
  {
   "cell_type": "markdown",
   "id": "f0910068",
   "metadata": {
    "papermill": {
     "duration": 0.012692,
     "end_time": "2023-06-30T08:38:00.204495",
     "exception": false,
     "start_time": "2023-06-30T08:38:00.191803",
     "status": "completed"
    },
    "tags": []
   },
   "source": [
    "doing grid search for the 2nd target column as well"
   ]
  },
  {
   "cell_type": "code",
   "execution_count": 17,
   "id": "19843748",
   "metadata": {
    "execution": {
     "iopub.execute_input": "2023-06-30T08:38:00.233308Z",
     "iopub.status.busy": "2023-06-30T08:38:00.232626Z",
     "iopub.status.idle": "2023-06-30T08:38:00.237803Z",
     "shell.execute_reply": "2023-06-30T08:38:00.236988Z"
    },
    "papermill": {
     "duration": 0.022537,
     "end_time": "2023-06-30T08:38:00.240293",
     "exception": false,
     "start_time": "2023-06-30T08:38:00.217756",
     "status": "completed"
    },
    "tags": []
   },
   "outputs": [],
   "source": [
    "# from sklearn.ensemble import RandomForestClassifier\n",
    "# from sklearn.model_selection import GridSearchCV\n",
    "\n",
    "# # Create an object of RandomForestClassifier\n",
    "# rf_classifier = RandomForestClassifier()\n",
    "\n",
    "# # Define the parameter grid\n",
    "# param_grid = {\n",
    "#     'n_estimators': [50, 100, 200],\n",
    "#     'max_depth': [None, 5, 10],\n",
    "#     'min_samples_split': [2, 4, 8],\n",
    "#     'min_samples_leaf': [1, 2, 4]\n",
    "# }\n",
    "\n",
    "# # Create GridSearchCV object\n",
    "# grid_search_2= GridSearchCV(estimator=rf_classifier, param_grid=param_grid, cv=5)\n",
    "\n",
    "# # Fit the GridSearchCV object to the data\n",
    "# grid_search.fit(train_1, y_train_2)\n",
    "\n",
    "# # Get the best parameters and best score\n",
    "# best_params = grid_search.best_params_\n",
    "# best_score = grid_search.best_score_\n",
    "\n",
    "# print(\"Best parameters:\", best_params)\n",
    "# print(\"Best score:\", best_score)\n"
   ]
  },
  {
   "cell_type": "markdown",
   "id": "67a24176",
   "metadata": {
    "papermill": {
     "duration": 0.012707,
     "end_time": "2023-06-30T08:38:00.267253",
     "exception": false,
     "start_time": "2023-06-30T08:38:00.254546",
     "status": "completed"
    },
    "tags": []
   },
   "source": [
    "Best parameters: {'max_depth': 10, 'min_samples_leaf': 2, 'min_samples_split': 2, 'n_estimators': 50}\n",
    "Best score: 0.7990295314951437"
   ]
  },
  {
   "cell_type": "markdown",
   "id": "6523f259",
   "metadata": {
    "papermill": {
     "duration": 0.01247,
     "end_time": "2023-06-30T08:38:00.292957",
     "exception": false,
     "start_time": "2023-06-30T08:38:00.280487",
     "status": "completed"
    },
    "tags": []
   },
   "source": [
    "fitting the model as required"
   ]
  },
  {
   "cell_type": "code",
   "execution_count": 18,
   "id": "0392c142",
   "metadata": {
    "execution": {
     "iopub.execute_input": "2023-06-30T08:38:00.321803Z",
     "iopub.status.busy": "2023-06-30T08:38:00.321300Z",
     "iopub.status.idle": "2023-06-30T08:38:02.294762Z",
     "shell.execute_reply": "2023-06-30T08:38:02.293424Z"
    },
    "papermill": {
     "duration": 1.991761,
     "end_time": "2023-06-30T08:38:02.297875",
     "exception": false,
     "start_time": "2023-06-30T08:38:00.306114",
     "status": "completed"
    },
    "tags": []
   },
   "outputs": [],
   "source": [
    "model2 = RandomForestClassifier(max_depth=10, min_samples_leaf=2, min_samples_split=2, n_estimators=50)\n",
    "model2.fit(train_1, y_train_2)\n",
    "y_pred_2 = model2.predict(test_1)"
   ]
  },
  {
   "cell_type": "code",
   "execution_count": 19,
   "id": "f6fd529c",
   "metadata": {
    "execution": {
     "iopub.execute_input": "2023-06-30T08:38:02.327351Z",
     "iopub.status.busy": "2023-06-30T08:38:02.326862Z",
     "iopub.status.idle": "2023-06-30T08:38:02.334768Z",
     "shell.execute_reply": "2023-06-30T08:38:02.333643Z"
    },
    "papermill": {
     "duration": 0.025376,
     "end_time": "2023-06-30T08:38:02.337223",
     "exception": false,
     "start_time": "2023-06-30T08:38:02.311847",
     "status": "completed"
    },
    "tags": []
   },
   "outputs": [
    {
     "data": {
      "text/plain": [
       "True"
      ]
     },
     "execution_count": 19,
     "metadata": {},
     "output_type": "execute_result"
    }
   ],
   "source": [
    "len(y_pred_2)==test_1.shape[0]"
   ]
  },
  {
   "cell_type": "markdown",
   "id": "efc78161",
   "metadata": {
    "papermill": {
     "duration": 0.012749,
     "end_time": "2023-06-30T08:38:02.363284",
     "exception": false,
     "start_time": "2023-06-30T08:38:02.350535",
     "status": "completed"
    },
    "tags": []
   },
   "source": [
    "creating a submission file"
   ]
  },
  {
   "cell_type": "markdown",
   "id": "c557e4ef",
   "metadata": {
    "papermill": {
     "duration": 0.012882,
     "end_time": "2023-06-30T08:38:02.389546",
     "exception": false,
     "start_time": "2023-06-30T08:38:02.376664",
     "status": "completed"
    },
    "tags": []
   },
   "source": [
    "first creating a pandas dataframe as needed"
   ]
  },
  {
   "cell_type": "code",
   "execution_count": 20,
   "id": "a5c6144b",
   "metadata": {
    "execution": {
     "iopub.execute_input": "2023-06-30T08:38:02.418577Z",
     "iopub.status.busy": "2023-06-30T08:38:02.417232Z",
     "iopub.status.idle": "2023-06-30T08:38:02.427884Z",
     "shell.execute_reply": "2023-06-30T08:38:02.426589Z"
    },
    "papermill": {
     "duration": 0.028219,
     "end_time": "2023-06-30T08:38:02.430936",
     "exception": false,
     "start_time": "2023-06-30T08:38:02.402717",
     "status": "completed"
    },
    "tags": []
   },
   "outputs": [],
   "source": [
    "# Create a DataFrame with 'id' column from test_1\n",
    "df = pd.DataFrame({'id': test_data['id']})\n",
    "\n",
    "# Add 'EC1' column containing the array y_train_1\n",
    "df['EC1'] = pd.Series(y_train_1)\n",
    "\n",
    "# Add 'EC2' column containing the array y_train_2\n",
    "df['EC2'] = pd.Series(y_train_2)"
   ]
  },
  {
   "cell_type": "code",
   "execution_count": 21,
   "id": "07d53524",
   "metadata": {
    "execution": {
     "iopub.execute_input": "2023-06-30T08:38:02.459675Z",
     "iopub.status.busy": "2023-06-30T08:38:02.459052Z",
     "iopub.status.idle": "2023-06-30T08:38:02.466697Z",
     "shell.execute_reply": "2023-06-30T08:38:02.465521Z"
    },
    "papermill": {
     "duration": 0.025251,
     "end_time": "2023-06-30T08:38:02.469582",
     "exception": false,
     "start_time": "2023-06-30T08:38:02.444331",
     "status": "completed"
    },
    "tags": []
   },
   "outputs": [
    {
     "data": {
      "text/plain": [
       "(9893, 3)"
      ]
     },
     "execution_count": 21,
     "metadata": {},
     "output_type": "execute_result"
    }
   ],
   "source": [
    "df.shape"
   ]
  },
  {
   "cell_type": "code",
   "execution_count": 22,
   "id": "2e0799af",
   "metadata": {
    "execution": {
     "iopub.execute_input": "2023-06-30T08:38:02.498451Z",
     "iopub.status.busy": "2023-06-30T08:38:02.497983Z",
     "iopub.status.idle": "2023-06-30T08:38:02.506268Z",
     "shell.execute_reply": "2023-06-30T08:38:02.505013Z"
    },
    "papermill": {
     "duration": 0.026171,
     "end_time": "2023-06-30T08:38:02.509133",
     "exception": false,
     "start_time": "2023-06-30T08:38:02.482962",
     "status": "completed"
    },
    "tags": []
   },
   "outputs": [
    {
     "data": {
      "text/plain": [
       "Index(['id', 'EC1', 'EC2'], dtype='object')"
      ]
     },
     "execution_count": 22,
     "metadata": {},
     "output_type": "execute_result"
    }
   ],
   "source": [
    "df.columns"
   ]
  },
  {
   "cell_type": "code",
   "execution_count": 23,
   "id": "5ced941a",
   "metadata": {
    "execution": {
     "iopub.execute_input": "2023-06-30T08:38:02.539053Z",
     "iopub.status.busy": "2023-06-30T08:38:02.538590Z",
     "iopub.status.idle": "2023-06-30T08:38:02.546278Z",
     "shell.execute_reply": "2023-06-30T08:38:02.545053Z"
    },
    "papermill": {
     "duration": 0.025744,
     "end_time": "2023-06-30T08:38:02.548604",
     "exception": false,
     "start_time": "2023-06-30T08:38:02.522860",
     "status": "completed"
    },
    "tags": []
   },
   "outputs": [
    {
     "data": {
      "text/plain": [
       "Index(['id', 'EC1', 'EC2'], dtype='object')"
      ]
     },
     "execution_count": 23,
     "metadata": {},
     "output_type": "execute_result"
    }
   ],
   "source": [
    "sample.columns"
   ]
  },
  {
   "cell_type": "markdown",
   "id": "edb289b1",
   "metadata": {
    "papermill": {
     "duration": 0.014555,
     "end_time": "2023-06-30T08:38:02.577315",
     "exception": false,
     "start_time": "2023-06-30T08:38:02.562760",
     "status": "completed"
    },
    "tags": []
   },
   "source": [
    "submitting the df dataset as needed"
   ]
  },
  {
   "cell_type": "code",
   "execution_count": 24,
   "id": "2f577719",
   "metadata": {
    "execution": {
     "iopub.execute_input": "2023-06-30T08:38:02.606921Z",
     "iopub.status.busy": "2023-06-30T08:38:02.606423Z",
     "iopub.status.idle": "2023-06-30T08:38:02.642300Z",
     "shell.execute_reply": "2023-06-30T08:38:02.640861Z"
    },
    "papermill": {
     "duration": 0.054071,
     "end_time": "2023-06-30T08:38:02.645600",
     "exception": false,
     "start_time": "2023-06-30T08:38:02.591529",
     "status": "completed"
    },
    "tags": []
   },
   "outputs": [],
   "source": [
    "df.to_csv('submission.csv',index=False)"
   ]
  },
  {
   "cell_type": "code",
   "execution_count": null,
   "id": "a06b0be1",
   "metadata": {
    "papermill": {
     "duration": 0.013862,
     "end_time": "2023-06-30T08:38:02.673717",
     "exception": false,
     "start_time": "2023-06-30T08:38:02.659855",
     "status": "completed"
    },
    "tags": []
   },
   "outputs": [],
   "source": []
  }
 ],
 "metadata": {
  "kernelspec": {
   "display_name": "Python 3",
   "language": "python",
   "name": "python3"
  },
  "language_info": {
   "codemirror_mode": {
    "name": "ipython",
    "version": 3
   },
   "file_extension": ".py",
   "mimetype": "text/x-python",
   "name": "python",
   "nbconvert_exporter": "python",
   "pygments_lexer": "ipython3",
   "version": "3.10.10"
  },
  "papermill": {
   "default_parameters": {},
   "duration": 31.628729,
   "end_time": "2023-06-30T08:38:03.920012",
   "environment_variables": {},
   "exception": null,
   "input_path": "__notebook__.ipynb",
   "output_path": "__notebook__.ipynb",
   "parameters": {},
   "start_time": "2023-06-30T08:37:32.291283",
   "version": "2.4.0"
  }
 },
 "nbformat": 4,
 "nbformat_minor": 5
}
